{
 "cells": [
  {
   "cell_type": "markdown",
   "id": "12952a97",
   "metadata": {},
   "source": [
    "# Ejemplo de Bolsa de Palabras (Bag of Words) en Procesamiento de Lenguaje Natural"
   ]
  },
  {
   "cell_type": "markdown",
   "id": "0cfb8871",
   "metadata": {},
   "source": [
    "# 1. Instalación e Importación de Librerías\n",
    "\n",
    "Usaremos la librería scikit-learn, en particular el módulo CountVectorizer, que se encarga de convertir una colección de documentos de texto en una matriz de tokens contados."
   ]
  },
  {
   "cell_type": "code",
   "execution_count": 2,
   "id": "9b6e59a8",
   "metadata": {},
   "outputs": [],
   "source": [
    "from sklearn.feature_extraction.text import CountVectorizer"
   ]
  },
  {
   "cell_type": "code",
   "execution_count": 3,
   "id": "c600b40d",
   "metadata": {},
   "outputs": [],
   "source": [
    "import pandas as pd"
   ]
  },
  {
   "cell_type": "code",
   "execution_count": 4,
   "id": "e581a00f",
   "metadata": {},
   "outputs": [],
   "source": [
    "import numpy as np"
   ]
  },
  {
   "cell_type": "code",
   "execution_count": 5,
   "id": "1e3caded",
   "metadata": {},
   "outputs": [],
   "source": [
    "import matplotlib.pyplot as plt"
   ]
  },
  {
   "cell_type": "code",
   "execution_count": 6,
   "id": "4de46487",
   "metadata": {},
   "outputs": [],
   "source": [
    "import seaborn as sns"
   ]
  },
  {
   "cell_type": "markdown",
   "id": "4aec0aeb",
   "metadata": {},
   "source": [
    "# Explicación:\n",
    "\n",
    "    CountVectorizer es una herramienta que transforma el texto en una matriz de conteo de palabras.\n",
    "\n",
    "    pandas se usará para visualizar de forma tabular la matriz resultante."
   ]
  },
  {
   "cell_type": "markdown",
   "id": "9e5ecdd1",
   "metadata": {},
   "source": [
    "# 2. Preparación de los Datos\n",
    "\n",
    "Crearemos una lista de documentos de ejemplo. Cada documento es simplemente una cadena de texto."
   ]
  },
  {
   "cell_type": "code",
   "execution_count": 7,
   "id": "bb01d49d",
   "metadata": {},
   "outputs": [],
   "source": [
    "# Corpus de ejemplo: un conjunto de documentos (oraciones)"
   ]
  },
  {
   "cell_type": "code",
   "execution_count": 8,
   "id": "61b8545d",
   "metadata": {},
   "outputs": [],
   "source": [
    "documentos = [\n",
    "    \"El gato negro duerme en el sofá\",\n",
    "    \"El perro juega en el jardín\",\n",
    "    \"El gato y el perro son animales\",\n",
    "    \"Me gusta el sofá y el jardín\"\n",
    "]"
   ]
  },
  {
   "cell_type": "markdown",
   "id": "9aeb9951",
   "metadata": {},
   "source": [
    "# Explicación:\n",
    "Cada cadena representa un documento. El BoW se basará en contar cuántas veces aparece cada palabra en cada documento."
   ]
  },
  {
   "cell_type": "markdown",
   "id": "3674f738",
   "metadata": {},
   "source": [
    "# 3. Creación del Modelo Bolsa de Palabras\n",
    "\n",
    "Utilizaremos CountVectorizer para transformar los documentos en una matriz numérica. "
   ]
  },
  {
   "cell_type": "code",
   "execution_count": 9,
   "id": "1e0cb9ee",
   "metadata": {},
   "outputs": [],
   "source": [
    "# Crear el objeto vectorizador de Bolsa de Palabras"
   ]
  },
  {
   "cell_type": "code",
   "execution_count": 10,
   "id": "ed7bb90a",
   "metadata": {},
   "outputs": [],
   "source": [
    "vectorizador = CountVectorizer() # intanciamos el objeto"
   ]
  },
  {
   "cell_type": "code",
   "execution_count": 11,
   "id": "8dafa193",
   "metadata": {},
   "outputs": [],
   "source": [
    "# Transformar los documentos a una matriz de conteo de palabras"
   ]
  },
  {
   "cell_type": "code",
   "execution_count": 12,
   "id": "c5c0df75",
   "metadata": {},
   "outputs": [],
   "source": [
    "matriz_bow = vectorizador.fit_transform(documentos)"
   ]
  },
  {
   "cell_type": "markdown",
   "id": "17f039e2",
   "metadata": {},
   "source": [
    "# Explicación:\n",
    "\n",
    "    El método fit_transform ajusta el modelo al vocabulario encontrado en los documentos y luego transforma el texto en una matriz dispersa donde cada fila corresponde a un documento y cada columna a una palabra del vocabulario.\n",
    "\n",
    "    La matriz resultante tiene dimensiones [n_documentos x n_palabras]."
   ]
  },
  {
   "cell_type": "markdown",
   "id": "6e66008c",
   "metadata": {},
   "source": [
    "# 4. Visualización de la Matriz de Bolsa de Palabras\n",
    "\n",
    "Podemos obtener el vocabulario y convertir la matriz dispersa a un DataFrame de pandas para visualizar mejor los datos."
   ]
  },
  {
   "cell_type": "code",
   "execution_count": 13,
   "id": "74aad2a2",
   "metadata": {},
   "outputs": [],
   "source": [
    "# Obtener el vocabulario (extraer todas las palabras únicas)"
   ]
  },
  {
   "cell_type": "code",
   "execution_count": 14,
   "id": "f69acda2",
   "metadata": {},
   "outputs": [],
   "source": [
    "vocabulario = vectorizador.get_feature_names_out()"
   ]
  },
  {
   "cell_type": "code",
   "execution_count": 15,
   "id": "08e2ea79",
   "metadata": {},
   "outputs": [],
   "source": [
    "# Convertir la matriz dispersa a una matriz densa para visualización"
   ]
  },
  {
   "cell_type": "code",
   "execution_count": 16,
   "id": "a2ff84aa",
   "metadata": {},
   "outputs": [],
   "source": [
    "matriz_bow_densa = matriz_bow.toarray()"
   ]
  },
  {
   "cell_type": "code",
   "execution_count": 17,
   "id": "3fcf0c61",
   "metadata": {},
   "outputs": [],
   "source": [
    "# Crear un DataFrame para mostrar los resultados de manera clara"
   ]
  },
  {
   "cell_type": "code",
   "execution_count": 18,
   "id": "a9a5d523",
   "metadata": {},
   "outputs": [],
   "source": [
    "df_bow = pd.DataFrame(\n",
    "    matriz_bow_densa, \n",
    "    columns=vocabulario, \n",
    "    index=[f'Documento {i+1}' for i in range(len(documentos))]\n",
    ")"
   ]
  },
  {
   "cell_type": "markdown",
   "id": "1551b0b5",
   "metadata": {},
   "source": [
    "# Explicación:\n",
    "\n",
    "    get_feature_names_out() devuelve una lista con todas las palabras (tokens) encontradas.\n",
    "\n",
    "    X.toarray() convierte la matriz dispersa a una matriz densa (array) para facilitar su visualización.\n",
    "\n",
    "    El DataFrame resultante muestra cuántas veces aparece cada palabra en cada documento."
   ]
  },
  {
   "cell_type": "code",
   "execution_count": 19,
   "id": "f8f3c0c5",
   "metadata": {},
   "outputs": [],
   "source": [
    "# 1. Heatmap de la Bolsa de Palabras"
   ]
  },
  {
   "cell_type": "code",
   "execution_count": 20,
   "id": "fbd96fd9",
   "metadata": {},
   "outputs": [
    {
     "data": {
      "image/png": "[encoded data removed]",
      "text/plain": [
       "<Figure size 1200x600 with 2 Axes>"
      ]
     },
     "metadata": {},
     "output_type": "display_data"
    }
   ],
   "source": [
    "plt.figure(figsize=(12, 6))\n",
    "sns.heatmap(df_bow, annot=True, cmap='YlGnBu', fmt='d')\n",
    "plt.title('Heatmap de Bolsa de Palabras')\n",
    "plt.xlabel('Palabras')\n",
    "plt.ylabel('Documentos')\n",
    "plt.tight_layout()\n",
    "plt.show()"
   ]
  },
  {
   "cell_type": "code",
   "execution_count": 21,
   "id": "b0cb19d2",
   "metadata": {},
   "outputs": [],
   "source": [
    "# Sumar las apariciones de cada palabra en todos los documentos"
   ]
  },
  {
   "cell_type": "code",
   "execution_count": 22,
   "id": "8f2347b0",
   "metadata": {},
   "outputs": [
    {
     "data": {
      "image/png": "[encoded data removed]",
      "text/plain": [
       "<Figure size 640x480 with 1 Axes>"
      ]
     },
     "metadata": {},
     "output_type": "display_data"
    }
   ],
   "source": [
    "conteo_palabras = df_bow.sum()\n",
    "conteo_palabras.plot(kind='bar')\n",
    "plt.title('Frecuencia Total de Palabras')\n",
    "plt.xlabel('Palabras')\n",
    "plt.ylabel('Número Total de Apariciones')\n",
    "plt.xticks(rotation=45, ha='right')\n",
    "plt.tight_layout()\n",
    "plt.show()"
   ]
  },
  {
   "cell_type": "code",
   "execution_count": 23,
   "id": "8fd5f0b2",
   "metadata": {},
   "outputs": [],
   "source": [
    "# Información adicional de frecuencia"
   ]
  },
  {
   "cell_type": "code",
   "execution_count": 24,
   "id": "cc7fe4bc",
   "metadata": {},
   "outputs": [
    {
     "name": "stdout",
     "output_type": "stream",
     "text": [
      "Frecuencia total de palabras:\n",
      "animales    1\n",
      "duerme      1\n",
      "el          8\n",
      "en          2\n",
      "gato        2\n",
      "gusta       1\n",
      "jardín      2\n",
      "juega       1\n",
      "me          1\n",
      "negro       1\n",
      "perro       2\n",
      "sofá        2\n",
      "son         1\n",
      "dtype: int64\n"
     ]
    }
   ],
   "source": [
    "print(\"Frecuencia total de palabras:\")\n",
    "print(conteo_palabras)"
   ]
  },
  {
   "cell_type": "code",
   "execution_count": 25,
   "id": "43c210f4",
   "metadata": {},
   "outputs": [],
   "source": [
    "# Imprimir los documentos originales"
   ]
  },
  {
   "cell_type": "code",
   "execution_count": 26,
   "id": "33dc1dfe",
   "metadata": {},
   "outputs": [
    {
     "name": "stdout",
     "output_type": "stream",
     "text": [
      "Documentos originales:\n",
      "Documento 1: El gato negro duerme en el sofá\n",
      "Documento 2: El perro juega en el jardín\n",
      "Documento 3: El gato y el perro son animales\n",
      "Documento 4: Me gusta el sofá y el jardín\n"
     ]
    }
   ],
   "source": [
    "print(\"Documentos originales:\")\n",
    "for i, doc in enumerate(documentos, 1):\n",
    "    print(f\"Documento {i}: {doc}\")"
   ]
  },
  {
   "cell_type": "code",
   "execution_count": 27,
   "id": "19106655",
   "metadata": {},
   "outputs": [
    {
     "name": "stdout",
     "output_type": "stream",
     "text": [
      "\n",
      "Vocabulario (Palabras únicas):\n",
      "['animales' 'duerme' 'el' 'en' 'gato' 'gusta' 'jardín' 'juega' 'me'\n",
      " 'negro' 'perro' 'sofá' 'son']\n"
     ]
    }
   ],
   "source": [
    "print(\"\\nVocabulario (Palabras únicas):\")\n",
    "print(vocabulario)"
   ]
  },
  {
   "cell_type": "code",
   "execution_count": 48,
   "id": "d8d379e0",
   "metadata": {},
   "outputs": [
    {
     "name": "stdout",
     "output_type": "stream",
     "text": [
      "\n",
      "Matriz de Bolsa de Palabras:\n",
      "             animales  duerme  el  en  gato  gusta  jardín  juega  me  negro  \\\n",
      "Documento 1         0       1   2   1     1      0       0      0   0      1   \n",
      "Documento 2         0       0   2   1     0      0       1      1   0      0   \n",
      "Documento 3         1       0   2   0     1      0       0      0   0      0   \n",
      "Documento 4         0       0   2   0     0      1       1      0   1      0   \n",
      "\n",
      "             perro  sofá  son  \n",
      "Documento 1      0     1    0  \n",
      "Documento 2      1     0    0  \n",
      "Documento 3      1     0    1  \n",
      "Documento 4      0     1    0  \n"
     ]
    }
   ],
   "source": [
    "print(\"\\nMatriz de Bolsa de Palabras:\")\n",
    "print(df_bow)"
   ]
  },
  {
   "cell_type": "code",
   "execution_count": 49,
   "id": "04a19a2c",
   "metadata": {},
   "outputs": [],
   "source": [
    "# Ejemplo de cómo se usa BoW para clasificación de texto"
   ]
  },
  {
   "cell_type": "code",
   "execution_count": 50,
   "id": "d0206c7b",
   "metadata": {},
   "outputs": [],
   "source": [
    "from sklearn.naive_bayes import MultinomialNB\n",
    "from sklearn.model_selection import train_test_split"
   ]
  },
  {
   "cell_type": "code",
   "execution_count": 51,
   "id": "56587388",
   "metadata": {},
   "outputs": [],
   "source": [
    "# Datos de ejemplo para clasificación"
   ]
  },
  {
   "cell_type": "code",
   "execution_count": 52,
   "id": "d3406013",
   "metadata": {},
   "outputs": [],
   "source": [
    "X = matriz_bow\n",
    "y = np.array(['diez', 'veinte', 'treinta', 'cuarenta'])"
   ]
  },
  {
   "cell_type": "code",
   "execution_count": 53,
   "id": "e1d69f7f",
   "metadata": {},
   "outputs": [],
   "source": [
    "# Dividir los datos en entrenamiento y prueba"
   ]
  },
  {
   "cell_type": "code",
   "execution_count": 54,
   "id": "03c05c0e",
   "metadata": {},
   "outputs": [],
   "source": [
    "X_train, X_test, y_train, y_test = train_test_split(X, y, test_size=0.25, random_state=42)"
   ]
  },
  {
   "cell_type": "code",
   "execution_count": 55,
   "id": "2a8e53de",
   "metadata": {},
   "outputs": [],
   "source": [
    "# Entrenar un clasificador Naive Bayes"
   ]
  },
  {
   "cell_type": "code",
   "execution_count": 56,
   "id": "048d9bf1",
   "metadata": {},
   "outputs": [
    {
     "data": {
      "text/html": [
       "<style>#sk-container-id-3 {color: black;background-color: white;}#sk-container-id-3 pre{padding: 0;}#sk-container-id-3 div.sk-toggleable {background-color: white;}#sk-container-id-3 label.sk-toggleable__label {cursor: pointer;display: block;width: 100%;margin-bottom: 0;padding: 0.3em;box-sizing: border-box;text-align: center;}#sk-container-id-3 label.sk-toggleable__label-arrow:before {content: \"▸\";float: left;margin-right: 0.25em;color: #696969;}#sk-container-id-3 label.sk-toggleable__label-arrow:hover:before {color: black;}#sk-container-id-3 div.sk-estimator:hover label.sk-toggleable__label-arrow:before {color: black;}#sk-container-id-3 div.sk-toggleable__content {max-height: 0;max-width: 0;overflow: hidden;text-align: left;background-color: #f0f8ff;}#sk-container-id-3 div.sk-toggleable__content pre {margin: 0.2em;color: black;border-radius: 0.25em;background-color: #f0f8ff;}#sk-container-id-3 input.sk-toggleable__control:checked~div.sk-toggleable__content {max-height: 200px;max-width: 100%;overflow: auto;}#sk-container-id-3 input.sk-toggleable__control:checked~label.sk-toggleable__label-arrow:before {content: \"▾\";}#sk-container-id-3 div.sk-estimator input.sk-toggleable__control:checked~label.sk-toggleable__label {background-color: #d4ebff;}#sk-container-id-3 div.sk-label input.sk-toggleable__control:checked~label.sk-toggleable__label {background-color: #d4ebff;}#sk-container-id-3 input.sk-hidden--visually {border: 0;clip: rect(1px 1px 1px 1px);clip: rect(1px, 1px, 1px, 1px);height: 1px;margin: -1px;overflow: hidden;padding: 0;position: absolute;width: 1px;}#sk-container-id-3 div.sk-estimator {font-family: monospace;background-color: #f0f8ff;border: 1px dotted black;border-radius: 0.25em;box-sizing: border-box;margin-bottom: 0.5em;}#sk-container-id-3 div.sk-estimator:hover {background-color: #d4ebff;}#sk-container-id-3 div.sk-parallel-item::after {content: \"\";width: 100%;border-bottom: 1px solid gray;flex-grow: 1;}#sk-container-id-3 div.sk-label:hover label.sk-toggleable__label {background-color: #d4ebff;}#sk-container-id-3 div.sk-serial::before {content: \"\";position: absolute;border-left: 1px solid gray;box-sizing: border-box;top: 0;bottom: 0;left: 50%;z-index: 0;}#sk-container-id-3 div.sk-serial {display: flex;flex-direction: column;align-items: center;background-color: white;padding-right: 0.2em;padding-left: 0.2em;position: relative;}#sk-container-id-3 div.sk-item {position: relative;z-index: 1;}#sk-container-id-3 div.sk-parallel {display: flex;align-items: stretch;justify-content: center;background-color: white;position: relative;}#sk-container-id-3 div.sk-item::before, #sk-container-id-3 div.sk-parallel-item::before {content: \"\";position: absolute;border-left: 1px solid gray;box-sizing: border-box;top: 0;bottom: 0;left: 50%;z-index: -1;}#sk-container-id-3 div.sk-parallel-item {display: flex;flex-direction: column;z-index: 1;position: relative;background-color: white;}#sk-container-id-3 div.sk-parallel-item:first-child::after {align-self: flex-end;width: 50%;}#sk-container-id-3 div.sk-parallel-item:last-child::after {align-self: flex-start;width: 50%;}#sk-container-id-3 div.sk-parallel-item:only-child::after {width: 0;}#sk-container-id-3 div.sk-dashed-wrapped {border: 1px dashed gray;margin: 0 0.4em 0.5em 0.4em;box-sizing: border-box;padding-bottom: 0.4em;background-color: white;}#sk-container-id-3 div.sk-label label {font-family: monospace;font-weight: bold;display: inline-block;line-height: 1.2em;}#sk-container-id-3 div.sk-label-container {text-align: center;}#sk-container-id-3 div.sk-container {/* jupyter's `normalize.less` sets `[hidden] { display: none; }` but bootstrap.min.css set `[hidden] { display: none !important; }` so we also need the `!important` here to be able to override the default hidden behavior on the sphinx rendered scikit-learn.org. See: https://github.com/scikit-learn/scikit-learn/issues/21755 */display: inline-block !important;position: relative;}#sk-container-id-3 div.sk-text-repr-fallback {display: none;}</style><div id=\"sk-container-id-3\" class=\"sk-top-container\"><div class=\"sk-text-repr-fallback\"><pre>MultinomialNB()</pre><b>In a Jupyter environment, please rerun this cell to show the HTML representation or trust the notebook. <br />On GitHub, the HTML representation is unable to render, please try loading this page with nbviewer.org.</b></div><div class=\"sk-container\" hidden><div class=\"sk-item\"><div class=\"sk-estimator sk-toggleable\"><input class=\"sk-toggleable__control sk-hidden--visually\" id=\"sk-estimator-id-3\" type=\"checkbox\" checked><label for=\"sk-estimator-id-3\" class=\"sk-toggleable__label sk-toggleable__label-arrow\">MultinomialNB</label><div class=\"sk-toggleable__content\"><pre>MultinomialNB()</pre></div></div></div></div></div>"
      ],
      "text/plain": [
       "MultinomialNB()"
      ]
     },
     "execution_count": 56,
     "metadata": {},
     "output_type": "execute_result"
    }
   ],
   "source": [
    "clasificador = MultinomialNB()\n",
    "clasificador.fit(X_train, y_train)"
   ]
  },
  {
   "cell_type": "code",
   "execution_count": 57,
   "id": "3b8cf42d",
   "metadata": {},
   "outputs": [],
   "source": [
    "# Predecir la clase de un nuevo documento"
   ]
  },
  {
   "cell_type": "code",
   "execution_count": 58,
   "id": "59d4ed0a",
   "metadata": {},
   "outputs": [],
   "source": [
    "nuevo_documento = [\"El gato está en el techo alto\"]\n",
    "nuevo_documento_bow = vectorizador.transform(nuevo_documento)\n",
    "prediccion = clasificador.predict(nuevo_documento_bow)"
   ]
  },
  {
   "cell_type": "code",
   "execution_count": 59,
   "id": "3a5db48c",
   "metadata": {},
   "outputs": [
    {
     "name": "stdout",
     "output_type": "stream",
     "text": [
      "\n",
      "Clasificación de nuevo documento:\n",
      "Documento: El gato está en el techo alto\n",
      "Clase predicha: diez\n"
     ]
    }
   ],
   "source": [
    "print(\"\\nClasificación de nuevo documento:\")\n",
    "print(f\"Documento: {nuevo_documento[0]}\")\n",
    "print(f\"Clase predicha: {prediccion[0]}\")"
   ]
  },
  {
   "cell_type": "code",
   "execution_count": null,
   "id": "f6a02f21",
   "metadata": {},
   "outputs": [],
   "source": []
  }
 ],
 "metadata": {
  "kernelspec": {
   "display_name": "Python 3 (ipykernel)",
   "language": "python",
   "name": "python3"
  },
  "language_info": {
   "codemirror_mode": {
    "name": "ipython",
    "version": 3
   },
   "file_extension": ".py",
   "mimetype": "text/x-python",
   "name": "python",
   "nbconvert_exporter": "python",
   "pygments_lexer": "ipython3",
   "version": "3.10.9"
  }
 },
 "nbformat": 4,
 "nbformat_minor": 5
}
