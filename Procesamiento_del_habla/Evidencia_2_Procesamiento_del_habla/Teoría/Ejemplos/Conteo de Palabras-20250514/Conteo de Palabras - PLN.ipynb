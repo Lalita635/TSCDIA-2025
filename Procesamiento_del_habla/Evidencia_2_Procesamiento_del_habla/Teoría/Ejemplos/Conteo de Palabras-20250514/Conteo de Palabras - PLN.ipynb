{
 "cells": [
  {
   "cell_type": "markdown",
   "id": "f3118409-7cab-45fb-b81f-79c3271ad862",
   "metadata": {},
   "source": [
    "# El Concepto de Conteo de Palabras en el Procesamiento del Lenguaje Natural"
   ]
  },
  {
   "cell_type": "markdown",
   "id": "78ad8a12-c554-4324-a474-7575a71b6463",
   "metadata": {},
   "source": [
    "### Tokens de Palabras vs. Tipos de Palabras:"
   ]
  },
  {
   "cell_type": "markdown",
   "id": "553428b5-1b2c-48c1-9e83-52030105443e",
   "metadata": {},
   "source": [
    "El Procesamiento del Lenguaje Natural (PLN) es un campo de la inteligencia artificial que se centra en la capacidad de las computadoras para comprender, interpretar y generar lenguaje humano. En un mundo cada vez más impulsado por los datos, el PLN se ha convertido en una tecnología esencial, facilitando una amplia gama de aplicaciones que van desde asistentes virtuales y traducción automática hasta análisis de sentimientos y recuperación de información. Dentro del vasto conjunto de técnicas que componen el PLN, el conteo de palabras se erige como un método fundamental y fundacional. Aunque conceptualmente simple, el conteo de palabras proporciona una base crucial para muchas tareas más complejas de análisis de texto. Este informe tiene como objetivo ofrecer una explicación exhaustiva del concepto de conteo de palabras en el PLN, demostrando su implementación práctica en Python utilizando el entorno Jupyter Notebook y bibliotecas populares, e ilustrando sus diversas aplicaciones dentro del campo.   "
   ]
  },
  {
   "cell_type": "markdown",
   "id": "2ee90aab-62a0-46ed-bc2d-562eb42a4de7",
   "metadata": {},
   "source": [
    "### Entendiendo el Concepto de Conteo de Palabras"
   ]
  },
  {
   "cell_type": "markdown",
   "id": "c9458ac3-91a4-4e60-8d14-0483300f0cb0",
   "metadata": {},
   "source": [
    "- Definición de Conteo de Palabras"
   ]
  },
  {
   "cell_type": "markdown",
   "id": "55c7c7eb-3cc9-43fa-8495-b3e26f19d192",
   "metadata": {},
   "source": [
    "En su esencia, el conteo de palabras implica determinar la frecuencia con la que aparece cada palabra individual dentro de un texto dado, ya sea un documento único o una colección de documentos conocida como corpus. Este proceso aparentemente sencillo ofrece información inicial valiosa sobre la composición y las características del texto. Los conteos de palabras pueden utilizarse para una variedad de propósitos, desde la exploración básica de texto hasta la ingeniería de características más avanzada para modelos de aprendizaje automático.  \n",
    "\n",
    "La cuantificación de la ocurrencia de las palabras permite ir más allá de las lecturas subjetivas y establecer una base numérica para el análisis. Esto facilita las comparaciones entre diferentes textos o entre diferentes partes del mismo texto. Por ejemplo, al identificar las palabras más frecuentes, a menudo se reflejan los temas o las ideas centrales del texto. Este análisis inicial puede guiar técnicas de PLN más sofisticadas.   "
   ]
  },
  {
   "cell_type": "markdown",
   "id": "ae264566-b8aa-44cb-a434-b1f9af2c97cd",
   "metadata": {},
   "source": [
    "- Tokens de Palabras vs. Tipos de Palabras:"
   ]
  },
  {
   "cell_type": "markdown",
   "id": "713e3e2a-6b8e-4fe5-9f42-43649b0f3987",
   "metadata": {},
   "source": [
    "Es importante distinguir entre dos conceptos relacionados: tokens de palabras y tipos de palabras. Un \"token de palabra\" se refiere a cada instancia individual de una palabra que aparece en el texto. Por ejemplo, en la frase \"El gato se sentó en la alfombra. El gato durmió.\", la palabra \"El\" aparece dos veces, por lo que hay dos tokens de \"El\". Un \"tipo de palabra\", por otro lado, se refiere a las palabras únicas presentes en el texto. En el mismo ejemplo, los tipos de palabras son \"El\", \"gato\", \"se\", \"sentó\", \"en\", \"la\", \"alfombra\", \"durmió\" (teniendo en cuenta que \"El\" y \"el\" podrían considerarse el mismo tipo después de la normalización).  \n",
    "\n",
    "La relación entre el número de tipos de palabras y el número total de tokens de palabras puede proporcionar información sobre la riqueza y complejidad del vocabulario utilizado en un texto. Una mayor proporción de tipos a tokens (diversidad léxica) sugiere un vocabulario más variado, mientras que una proporción menor podría indicar repetición o un tema más específico con menos variación léxica. Por ejemplo, consideremos la frase \"El perro persigue al gato. El gato huyó.\". Esta frase contiene 8 tokens de palabras (\"El\", \"perro\", \"persigue\", \"al\", \"gato\", \"El\", \"gato\", \"huyó\") pero solo 6 tipos de palabras (\"El\", \"perro\", \"persigue\", \"al\", \"gato\", \"huyó\")."
   ]
  },
  {
   "attachments": {
    "6d0cc776-2aaa-4d13-8b40-3033b494e974.png": {
     "image/png": "[encoded data removed]"
    }
   },
   "cell_type": "markdown",
   "id": "219a567d-cf8c-4e8a-bd94-839a15f0139a",
   "metadata": {},
   "source": [
    "![imagen.png](attachment:6d0cc776-2aaa-4d13-8b40-3033b494e974.png)"
   ]
  },
  {
   "cell_type": "markdown",
   "id": "3030d0e3-f5d0-450f-ad47-efc33b3c5452",
   "metadata": {},
   "source": [
    "- Consideraciones Básicas en el Conteo de Palabras:"
   ]
  },
  {
   "cell_type": "markdown",
   "id": "c015b3b0-d371-495e-a33a-0d001e262509",
   "metadata": {},
   "source": [
    "Sensibilidad a Mayúsculas y Minúsculas: Por defecto, el conteo de palabras podría tratar las palabras con diferente capitalización (por ejemplo, \"Manzana\" y \"manzana\") como entidades distintas. Sin embargo, en muchos análisis de PLN, la capitalización no altera fundamentalmente el significado de una palabra. Por lo tanto, es una práctica común realizar la normalización de casos, generalmente convirtiendo todo el texto a minúsculas, para asegurar que diferentes capitalizaciones de la misma palabra se cuenten juntas. No manejar la sensibilidad a mayúsculas y minúsculas de manera apropiada puede llevar a conteos de palabras inflados para ciertas palabras, lo que podría sesgar el análisis de frecuencia.   "
   ]
  },
  {
   "cell_type": "markdown",
   "id": "3aaf0fbc-6c3b-4f81-bbe0-f1669335e0c4",
   "metadata": {},
   "source": [
    "Puntuación: Los signos de puntuación (por ejemplo, comas, puntos, signos de interrogación) generalmente no se consideran palabras y deben eliminarse o ignorarse durante el conteo de palabras para centrarse en el contenido textual real. Incluir la puntuación en los conteos de palabras puede introducir ruido y distraer del análisis de las palabras significativas. La puntuación sirve para propósitos gramaticales, pero típicamente no contribuye al significado semántico central de las palabras en sí mismas.   "
   ]
  },
  {
   "cell_type": "markdown",
   "id": "97774e87-486c-47ff-a211-a9576094603d",
   "metadata": {},
   "source": [
    "Caracteres Especiales y Números: El tratamiento de caracteres especiales (por ejemplo, guiones, apóstrofes) y números depende del contexto específico de la tarea de PLN. Por ejemplo, la expresión \"estado-del-arte\" podría tratarse como una palabra o como tres, dependiendo del análisis. De manera similar, los números podrían ser importantes en algunos contextos pero irrelevantes en otros. La definición de una \"palabra\" puede ser dependiente del contexto, lo que requiere una consideración cuidadosa de cómo manejar los caracteres especiales y los números en función de los objetivos analíticos específicos. No existe un enfoque único para estos elementos. La decisión de incluirlos o excluirlos debe estar impulsada por la pregunta de investigación o el objetivo de la aplicación de PLN.   "
   ]
  },
  {
   "cell_type": "markdown",
   "id": "b8e9de82-a858-49db-8fb4-005f652e145e",
   "metadata": {},
   "source": [
    "## Implementación Práctica en Python con Jupyter Notebook"
   ]
  },
  {
   "cell_type": "markdown",
   "id": "bb78e21b-9027-48f8-b99e-af97c61ee99f",
   "metadata": {},
   "source": [
    "- Configuración del Entorno:"
   ]
  },
  {
   "cell_type": "markdown",
   "id": "ad3f66eb-1c62-4803-b8ce-be86d9519554",
   "metadata": {},
   "source": [
    "Python es el lenguaje de programación dominante para el PLN debido a su rico ecosistema de bibliotecas. Para comenzar, asegúrese de tener Python y Jupyter Notebook instalados en su sistema (Anaconda es una distribución conveniente que incluye ambos). Luego, instale las bibliotecas necesarias utilizando pip: NLTK (pip install nltk) y scikit-learn (pip install scikit-learn). Finalmente, descargue los datos necesarios de NLTK, específicamente los modelos del tokenizador punkt (nltk.download('punkt')) y el corpus de palabras vacías (nltk.download('stopwords')).   "
   ]
  },
  {
   "cell_type": "markdown",
   "id": "6337a187-ae9a-42e3-a9bb-49e3d61367b1",
   "metadata": {},
   "source": [
    "- Conteo Básico de Palabras utilizando la Manipulación de Cadenas de Python:"
   ]
  },
  {
   "cell_type": "markdown",
   "id": "436b1f7d-3b2f-469e-86bc-fd9a1c3cbe99",
   "metadata": {},
   "source": [
    "Comencemos con un ejemplo de texto simple en una variable de cadena de Python dentro de una celda de Jupyter Notebook:"
   ]
  },
  {
   "cell_type": "code",
   "execution_count": 15,
   "id": "5c4d76ea-d7ce-4dce-8d70-96002726fec9",
   "metadata": {},
   "outputs": [],
   "source": [
    "texto_ejemplo = \"Este es, un ejemplo sencillo de texto.\""
   ]
  },
  {
   "cell_type": "markdown",
   "id": "fb7ce3ff-2e1f-445d-a93d-891a203fb925",
   "metadata": {},
   "source": [
    "Podemos dividir esta cadena en una lista de palabras utilizando el método split():"
   ]
  },
  {
   "cell_type": "code",
   "execution_count": 16,
   "id": "8e96ab08-dc59-4c0a-b5a4-f013e8631dad",
   "metadata": {},
   "outputs": [
    {
     "name": "stdout",
     "output_type": "stream",
     "text": [
      "['Este', 'es,', 'un', 'ejemplo', 'sencillo', 'de', 'texto.']\n"
     ]
    }
   ],
   "source": [
    "palabras = texto_ejemplo.split()\n",
    "print(palabras)"
   ]
  },
  {
   "cell_type": "markdown",
   "id": "0924b9c3-15fc-4405-bb67-b4dc4aface69",
   "metadata": {},
   "source": [
    "Esto producirá una lista de palabras: ['Este', 'es', 'un', 'ejemplo', 'sencillo', 'de', 'texto.']. Podemos obtener el número total de palabras utilizando la función len():"
   ]
  },
  {
   "cell_type": "code",
   "execution_count": 17,
   "id": "25de1c9b-1bd2-4500-8086-44b4e41860d8",
   "metadata": {},
   "outputs": [
    {
     "name": "stdout",
     "output_type": "stream",
     "text": [
      "El número total de palabras es: 7\n"
     ]
    }
   ],
   "source": [
    "conteo_palabras = len(palabras)\n",
    "print(f\"El número total de palabras es: {conteo_palabras}\")"
   ]
  },
  {
   "cell_type": "markdown",
   "id": "5a1d9094-7f56-4d8f-9651-86e8217b9849",
   "metadata": {},
   "source": [
    "Este enfoque básico tiene limitaciones: no maneja eficazmente la puntuación adjunta a las palabras (por ejemplo, \"texto.\" se contará como una palabra diferente de \"texto\") y distingue entre mayúsculas y minúsculas. Si bien el método split() proporciona una forma rápida y fácil de obtener un conteo aproximado de palabras, a menudo es insuficiente para un análisis preciso de PLN. Para un conteo de palabras más preciso, especialmente cuando se trata de texto del mundo real, se requieren herramientas de PLN dedicadas que manejen la tokenización y la normalización.   "
   ]
  },
  {
   "cell_type": "markdown",
   "id": "fa6a5a24-f6cb-4721-830d-329e7d88d4e2",
   "metadata": {},
   "source": [
    "- Preprocesamiento (convertir a minúsculas y eliminar puntuación)"
   ]
  },
  {
   "cell_type": "code",
   "execution_count": 18,
   "id": "0fa4b1c5-6b6c-4e5e-ac9f-357bda28e568",
   "metadata": {},
   "outputs": [
    {
     "name": "stdout",
     "output_type": "stream",
     "text": [
      "este es un ejemplo sencillo de texto\n"
     ]
    }
   ],
   "source": [
    "import string\n",
    "\n",
    "# Convertimos el texto a minúsculas\n",
    "texto = texto_ejemplo.lower()\n",
    "\n",
    "palabras = texto.split()\n",
    "\n",
    "# Eliminamos puntuación\n",
    "texto_final = texto.translate(str.maketrans(\"\", \"\", string.punctuation))\n",
    "\n",
    "print(texto_final)\n"
   ]
  },
  {
   "cell_type": "markdown",
   "id": "fdec9eaa-1686-4f7c-b923-fa5fef4b7159",
   "metadata": {},
   "source": [
    "- Usamos lower() para que “Lenguaje” y “lenguaje” se consideren la misma palabra.\n",
    "\n",
    "- str.maketrans() con string.punctuation elimina comas, puntos, etc., para evitar contarlos como parte de las palabras."
   ]
  },
  {
   "cell_type": "markdown",
   "id": "d5668d0c-6344-473a-9e46-0d6bd1fe4444",
   "metadata": {},
   "source": [
    "### Conteo de Palabras con NLTK"
   ]
  },
  {
   "cell_type": "markdown",
   "id": "991effc6-8765-45fb-93de-0eaa65a2ee51",
   "metadata": {},
   "source": [
    "Tokenización utilizando nltk.word_tokenize():"
   ]
  },
  {
   "cell_type": "markdown",
   "id": "016eeed2-cccf-430b-aa6e-caab1952d5e7",
   "metadata": {},
   "source": [
    "La tokenización es el proceso de dividir un texto en unidades individuales llamadas tokens, que suelen ser palabras, pero también pueden incluir puntuación u otros elementos. NLTK proporciona una función más sofisticada para esto: word_tokenize(). Importemos esta función y apliquémosla a nuestro texto de ejemplo"
   ]
  },
  {
   "cell_type": "code",
   "execution_count": 25,
   "id": "dfb18db9-cd16-4f34-ba4c-f02adb52a93b",
   "metadata": {},
   "outputs": [
    {
     "name": "stdout",
     "output_type": "stream",
     "text": [
      "['Este', 'es', 'un', 'ejemplo', 'sencillo', 'de', 'texto', '.']\n"
     ]
    }
   ],
   "source": [
    "from nltk.corpus import stopwords\n",
    "from nltk.tokenize import word_tokenize\n",
    "import nltk\n",
    "\n",
    "texto_ejemplo = \"Este es un ejemplo sencillo de texto.\"\n",
    "tokens = word_tokenize(texto_ejemplo)\n",
    "print(tokens)"
   ]
  },
  {
   "cell_type": "markdown",
   "id": "74138598-7667-4b54-893e-9e571d4fedf6",
   "metadata": {},
   "source": [
    "- Conteo Básico de Palabras utilizando la Manipulación de Cadenas de Python:"
   ]
  },
  {
   "cell_type": "markdown",
   "id": "7e81a97f-e2e9-43aa-a8a7-3a885cf0ab84",
   "metadata": {},
   "source": [
    "Comencemos con un ejemplo de texto simple en una variable de cadena de Python dentro de una celda de Jupyter Notebook:"
   ]
  },
  {
   "cell_type": "markdown",
   "id": "a6eb98a9-8b43-4d79-83ac-0e3fd53ff595",
   "metadata": {},
   "source": [
    "Podemos dividir esta cadena en una lista de palabras utilizando el método split():"
   ]
  },
  {
   "cell_type": "code",
   "execution_count": 26,
   "id": "9200c024-de3b-4a84-a982-f809bfeeca60",
   "metadata": {},
   "outputs": [
    {
     "name": "stdout",
     "output_type": "stream",
     "text": [
      "['Este', 'es', 'un', 'ejemplo', 'sencillo', 'de', 'texto.']\n"
     ]
    }
   ],
   "source": [
    "palabras = texto_ejemplo.split()\n",
    "print(palabras)"
   ]
  },
  {
   "cell_type": "markdown",
   "id": "a0ef7ab8-c1e8-4705-bb59-62db9d1ea2fb",
   "metadata": {},
   "source": [
    "Esto producirá una lista de palabras: ['Este', 'es', 'un', 'ejemplo', 'sencillo', 'de', 'texto.']. Podemos obtener el número total de palabras utilizando la función len():"
   ]
  },
  {
   "cell_type": "code",
   "execution_count": 27,
   "id": "bc871dfd-0c0e-4f5a-9e3d-5ddf996e6d8c",
   "metadata": {},
   "outputs": [
    {
     "name": "stdout",
     "output_type": "stream",
     "text": [
      "El número total de palabras es: 7\n"
     ]
    }
   ],
   "source": [
    "conteo_palabras = len(palabras)\n",
    "print(f\"El número total de palabras es: {conteo_palabras}\")"
   ]
  },
  {
   "cell_type": "markdown",
   "id": "f7dc87ab-6baa-4ec9-8ebe-0a87f041b803",
   "metadata": {},
   "source": [
    "Tambien podemos utilizar"
   ]
  },
  {
   "cell_type": "code",
   "execution_count": 29,
   "id": "7c08217b-26d9-4a97-8fc5-a2de408140a7",
   "metadata": {},
   "outputs": [
    {
     "name": "stdout",
     "output_type": "stream",
     "text": [
      "El número total de palabras es: Counter({'Este': 1, 'es': 1, 'un': 1, 'ejemplo': 1, 'sencillo': 1, 'de': 1, 'texto.': 1})\n"
     ]
    }
   ],
   "source": [
    "from collections import Counter\n",
    "\n",
    "conteo = Counter(palabras)\n",
    "print(f\"El número total de palabras es: {conteo}\")"
   ]
  },
  {
   "cell_type": "markdown",
   "id": "1c599fc9-394b-4f57-af57-3021b997c756",
   "metadata": {},
   "source": [
    "### ¿Qué es Counter?\n",
    "Counter es una clase de la biblioteca estándar que cuenta cuántas veces aparece cada elemento en una lista."
   ]
  },
  {
   "cell_type": "markdown",
   "id": "cd09f1d5-4dec-48ee-93a2-ca036d52aa60",
   "metadata": {},
   "source": [
    "Este enfoque básico tiene limitaciones: no maneja eficazmente la puntuación adjunta a las palabras (por ejemplo, \"texto.\" se contará como una palabra diferente de \"texto\") y distingue entre mayúsculas y minúsculas. Si bien el método split() proporciona una forma rápida y fácil de obtener un conteo aproximado de palabras, a menudo es insuficiente para un análisis preciso de PLN. Para un conteo de palabras más preciso, especialmente cuando se trata de texto del mundo real, se requieren herramientas de PLN dedicadas que manejen la tokenización y la normalización"
   ]
  },
  {
   "cell_type": "markdown",
   "id": "272c70e8-8377-49eb-94e4-855e235d2139",
   "metadata": {},
   "source": [
    "- Conteo de Palabras con NLTK:"
   ]
  },
  {
   "cell_type": "markdown",
   "id": "5078a876-88d6-45fb-b6f5-7f46af700d86",
   "metadata": {},
   "source": [
    "Tokenización utilizando nltk.word_tokenize():\n",
    "\n",
    "La tokenización es el proceso de dividir un texto en unidades individuales llamadas tokens, que suelen ser palabras, pero también pueden incluir puntuación u otros elementos. NLTK proporciona una función más sofisticada para esto: word_tokenize(). Importemos esta función y apliquémosla a nuestro texto de ejemplo: "
   ]
  },
  {
   "cell_type": "code",
   "execution_count": 30,
   "id": "d7af7640-d352-4464-8bbe-4b76a94cfd7d",
   "metadata": {},
   "outputs": [
    {
     "name": "stdout",
     "output_type": "stream",
     "text": [
      "['Este', 'es', 'un', 'ejemplo', 'sencillo', 'de', 'texto', '.']\n"
     ]
    }
   ],
   "source": [
    "from nltk.tokenize import word_tokenize\n",
    "\n",
    "texto_ejemplo = \"Este es un ejemplo sencillo de texto.\"\n",
    "tokens = word_tokenize(texto_ejemplo)\n",
    "print(tokens)"
   ]
  },
  {
   "cell_type": "markdown",
   "id": "9fe26b57-8a03-407f-a4ba-47a01df9ec62",
   "metadata": {},
   "source": [
    "Esto producirá: ['Este', 'es', 'un', 'ejemplo', 'sencillo', 'de', 'texto', '.']. Observe cómo el punto al final de la oración ahora es un token separado. nltk.word_tokenize() es un tokenizador más sofisticado que el método básico split(), proporcionando una mejor base para un conteo de palabras preciso. Al separar la puntuación, nos permite centrarnos en contar las palabras reales y luego manejar la puntuación por separado si es necesario."
   ]
  },
  {
   "cell_type": "markdown",
   "id": "1b51c308-7282-4a60-82b4-650a7303cbbb",
   "metadata": {},
   "source": [
    "Cálculo de la Distribución de Frecuencia utilizando nltk.FreqDist():\n",
    "\n",
    "La clase FreqDist de NLTK es una herramienta poderosa para contar la frecuencia de cada token en una lista. Creemos un objeto FreqDist a partir de nuestra lista de tokens:   "
   ]
  },
  {
   "cell_type": "code",
   "execution_count": 31,
   "id": "62267158-f321-46e0-ad13-b3d876098cf5",
   "metadata": {},
   "outputs": [
    {
     "name": "stdout",
     "output_type": "stream",
     "text": [
      "<FreqDist with 8 samples and 8 outcomes>\n"
     ]
    }
   ],
   "source": [
    "from nltk import FreqDist\n",
    "fdist = FreqDist(tokens)\n",
    "print(fdist)"
   ]
  },
  {
   "cell_type": "markdown",
   "id": "bdbb82c6-3c58-4d54-97b8-94f7646a7ff7",
   "metadata": {},
   "source": [
    "Esto mostrará algo como <FreqDist with 8 samples and 8 outcomes>, indicando que hay 8 tokens únicos y 8 tokens en total. Podemos acceder a la frecuencia de una palabra específica (token) utilizando un acceso similar a un diccionario:"
   ]
  },
  {
   "cell_type": "code",
   "execution_count": 32,
   "id": "bc4e5c09-5a44-4a41-825d-a00e2fcb8229",
   "metadata": {},
   "outputs": [
    {
     "name": "stdout",
     "output_type": "stream",
     "text": [
      "La frecuencia de 'es' es: 1\n"
     ]
    }
   ],
   "source": [
    "print(f\"La frecuencia de 'es' es: {fdist['es']}\")"
   ]
  },
  {
   "cell_type": "markdown",
   "id": "d794f4d2-bccc-4c54-a5de-4fea0e315c2d",
   "metadata": {},
   "source": [
    "También podemos utilizar el método most_common(n) para obtener las n palabras más frecuentes y sus recuentos como una lista de tuplas:"
   ]
  },
  {
   "cell_type": "code",
   "execution_count": 33,
   "id": "8c106fd5-a460-45fc-b388-fad0d57adbb1",
   "metadata": {},
   "outputs": [
    {
     "name": "stdout",
     "output_type": "stream",
     "text": [
      "Las 3 palabras más comunes son: [('Este', 1), ('es', 1), ('un', 1)]\n"
     ]
    }
   ],
   "source": [
    "print(f\"Las 3 palabras más comunes son: {fdist.most_common(3)}\")"
   ]
  },
  {
   "cell_type": "markdown",
   "id": "e317a0a8-5de5-4d4b-acf3-76771f3d01a5",
   "metadata": {},
   "source": [
    "Finalmente, podemos visualizar la distribución de frecuencia de las palabras más comunes utilizando el método plot(n) del objeto FreqDist, que requiere que Matplotlib esté instalado:"
   ]
  },
  {
   "cell_type": "code",
   "execution_count": 34,
   "id": "4f05f367-6b5b-42b6-b3a0-99fddfaedb37",
   "metadata": {},
   "outputs": [
    {
     "data": {
      "image/png": "[encoded data removed]",
      "text/plain": [
       "<Figure size 640x480 with 1 Axes>"
      ]
     },
     "metadata": {},
     "output_type": "display_data"
    }
   ],
   "source": [
    "import matplotlib.pyplot as plt\n",
    "fdist.plot(title='Distribución de Frecuencia de Palabras')\n",
    "plt.show()"
   ]
  },
  {
   "cell_type": "markdown",
   "id": "07df8163-0940-47b5-a4ab-7c8b80725f34",
   "metadata": {},
   "source": [
    "nltk.FreqDist() proporciona una forma conveniente y eficiente no solo de contar las frecuencias de las palabras, sino también de analizar y visualizar fácilmente la distribución de las palabras en un texto. Esto permite una identificación rápida de las palabras más dominantes, que pueden ser indicativas de los temas o ideas principales del texto."
   ]
  },
  {
   "cell_type": "markdown",
   "id": "31e42c13-afe4-4ddf-9044-fc1c39ef44b7",
   "metadata": {},
   "source": [
    "- Manejo de Puntuación y Conversión a Minúsculas:"
   ]
  },
  {
   "cell_type": "markdown",
   "id": "07e649e4-15b7-498c-b6c7-5b8cd5fef286",
   "metadata": {},
   "source": [
    "Para obtener un conteo de palabras más limpio, generalmente queremos eliminar la puntuación y asegurarnos de que todas las palabras se cuenten en el mismo caso. Podemos hacer esto utilizando comprensiones de lista. Primero, filtremos los tokens que no son puramente alfabéticos utilizando el método isalpha():"
   ]
  },
  {
   "cell_type": "code",
   "execution_count": 35,
   "id": "dd6c5c57-0ad5-48ac-9c95-8d58f9ec9701",
   "metadata": {},
   "outputs": [
    {
     "name": "stdout",
     "output_type": "stream",
     "text": [
      "['Este', 'es', 'un', 'ejemplo', 'sencillo', 'de', 'texto']\n"
     ]
    }
   ],
   "source": [
    "palabras_sin_puntuacion = [palabra for palabra in tokens if palabra.isalpha()]\n",
    "print(palabras_sin_puntuacion)"
   ]
  },
  {
   "cell_type": "markdown",
   "id": "16ee9881-426e-408f-ac16-073f5efc8657",
   "metadata": {},
   "source": [
    "Luego, convertimos cada palabra a minúsculas utilizando el método lower():"
   ]
  },
  {
   "cell_type": "code",
   "execution_count": 36,
   "id": "e75eed4a-237d-4127-a245-01adf99390f6",
   "metadata": {},
   "outputs": [
    {
     "name": "stdout",
     "output_type": "stream",
     "text": [
      "['este', 'es', 'un', 'ejemplo', 'sencillo', 'de', 'texto']\n"
     ]
    }
   ],
   "source": [
    "palabras_minusculas = [palabra.lower() for palabra in palabras_sin_puntuacion]\n",
    "print(palabras_minusculas)"
   ]
  },
  {
   "cell_type": "markdown",
   "id": "12f5df31-2ebf-4961-988c-5ae4a0169a3f",
   "metadata": {},
   "source": [
    "Podemos combinar ambos pasos en una sola comprensión de lista:"
   ]
  },
  {
   "cell_type": "code",
   "execution_count": 37,
   "id": "c3865ce8-4309-4e1a-8838-393a3b6ddfec",
   "metadata": {},
   "outputs": [
    {
     "name": "stdout",
     "output_type": "stream",
     "text": [
      "['este', 'es', 'un', 'ejemplo', 'sencillo', 'de', 'texto']\n",
      "[('este', 1), ('es', 1), ('un', 1), ('ejemplo', 1), ('sencillo', 1), ('de', 1), ('texto', 1)]\n"
     ]
    }
   ],
   "source": [
    "palabras_limpias = [palabra.lower() for palabra in tokens if palabra.isalpha()]\n",
    "print(palabras_limpias)\n",
    "fdist_limpia = FreqDist(palabras_limpias)\n",
    "print(fdist_limpia.most_common())"
   ]
  },
  {
   "cell_type": "markdown",
   "id": "3ba4e91a-93ab-46ac-a810-022a3e695fc0",
   "metadata": {},
   "source": [
    "La combinación de la tokenización con técnicas de filtrado y normalización permite un conteo de palabras más preciso y significativo que se centra en el contenido textual central. Al eliminar el ruido de la puntuación y garantizar un caso consistente, obtenemos una representación más fiel de las frecuencias de las palabras."
   ]
  },
  {
   "cell_type": "markdown",
   "id": "bbbf7b3b-5a9f-4a73-9952-b551f54eabd3",
   "metadata": {},
   "source": [
    "### Conteo de Palabras con CountVectorizer de scikit-learn"
   ]
  },
  {
   "cell_type": "markdown",
   "id": "2db99f7c-283e-468a-acdc-79b551fb030d",
   "metadata": {},
   "source": [
    "CountVectorizer de la biblioteca sklearn.feature_extraction.text es una herramienta versátil para convertir una colección de documentos de texto en una matriz de conteos de tokens. Inicialicemos un objeto CountVectorizer y apliquemos el método fit_transform() a nuestro texto de ejemplo (envuelto en una lista ya que CountVectorizer espera una colección de documentos):   "
   ]
  },
  {
   "cell_type": "code",
   "execution_count": 39,
   "id": "26460b58-161d-4310-ad88-24e382a6b9df",
   "metadata": {},
   "outputs": [
    {
     "name": "stdout",
     "output_type": "stream",
     "text": [
      "  (0, 3)\t1\n",
      "  (0, 2)\t1\n",
      "  (0, 6)\t1\n",
      "  (0, 1)\t1\n",
      "  (0, 4)\t1\n",
      "  (0, 0)\t1\n",
      "  (0, 5)\t1\n"
     ]
    }
   ],
   "source": [
    "from sklearn.feature_extraction.text import CountVectorizer\n",
    "texto_ejemplo = [\"Este es un ejemplo sencillo de texto.\"]\n",
    "vectorizador = CountVectorizer()\n",
    "matriz_conteo = vectorizador.fit_transform(texto_ejemplo)\n",
    "print(matriz_conteo)"
   ]
  },
  {
   "cell_type": "markdown",
   "id": "f2785735-25f0-4159-a9a9-4a75093f8644",
   "metadata": {},
   "source": [
    "La salida es una matriz dispersa en formato CSR (Compressed Sparse Row). Esto es una representación eficiente de datos con muchos valores cero (ya que la mayoría de los documentos no contendrán todas las palabras del vocabulario). Podemos obtener el vocabulario (un diccionario que mapea las palabras a sus índices de características) utilizando el atributo vocabulary_:"
   ]
  },
  {
   "cell_type": "code",
   "execution_count": 40,
   "id": "f736e58b-8e3f-4415-bfe1-4bbb75c9a3ab",
   "metadata": {},
   "outputs": [
    {
     "name": "stdout",
     "output_type": "stream",
     "text": [
      "{'este': 3, 'es': 2, 'un': 6, 'ejemplo': 1, 'sencillo': 4, 'de': 0, 'texto': 5}\n"
     ]
    }
   ],
   "source": [
    "print(vectorizador.vocabulary_)"
   ]
  },
  {
   "cell_type": "markdown",
   "id": "4671b11f-a326-4d54-be8d-3c9d5c107a18",
   "metadata": {},
   "source": [
    "También podemos obtener la lista de nombres de características (las palabras en el vocabulario) utilizando el método get_feature_names_out() o get_feature_names():"
   ]
  },
  {
   "cell_type": "code",
   "execution_count": 41,
   "id": "3866912b-0636-4cc8-8aee-c12b34447cb9",
   "metadata": {},
   "outputs": [
    {
     "name": "stdout",
     "output_type": "stream",
     "text": [
      "['de' 'ejemplo' 'es' 'este' 'sencillo' 'texto' 'un']\n"
     ]
    }
   ],
   "source": [
    "print(vectorizador.get_feature_names_out())"
   ]
  },
  {
   "cell_type": "markdown",
   "id": "35409ab3-71e7-4317-9bb5-d21b37c1d189",
   "metadata": {},
   "source": [
    "Para una inspección más fácil, podemos convertir la matriz dispersa en una matriz densa de NumPy utilizando el método toarray():"
   ]
  },
  {
   "cell_type": "code",
   "execution_count": 42,
   "id": "9a4f6805-bb5b-4f13-b008-9b02527c9bf7",
   "metadata": {},
   "outputs": [
    {
     "name": "stdout",
     "output_type": "stream",
     "text": [
      "[[1 1 1 1 1 1 1]]\n"
     ]
    }
   ],
   "source": [
    "print(matriz_conteo.toarray())"
   ]
  },
  {
   "cell_type": "markdown",
   "id": "a5233f3c-0b72-4399-9770-3fdaa431a62a",
   "metadata": {},
   "source": [
    "CountVectorizer proporciona un enfoque más integrado para la tokenización y el conteo de palabras, lo que lo hace particularmente útil para preparar datos de texto para modelos de aprendizaje automático. Maneja la creación de una representación numérica del texto en un formato que los algoritmos de aprendizaje automático pueden procesar fácilmente.\n",
    "\n",
    "Para que la salida sea más legible, podemos usar la biblioteca Pandas para crear un DataFrame a partir de la matriz densa, utilizando los nombres de las características como encabezados de columna:"
   ]
  },
  {
   "cell_type": "code",
   "execution_count": 43,
   "id": "9c27e440-6da2-4abf-ab6b-36c2ceb1c408",
   "metadata": {},
   "outputs": [
    {
     "name": "stdout",
     "output_type": "stream",
     "text": [
      "   de  ejemplo  es  este  sencillo  texto  un\n",
      "0   1        1   1     1         1      1   1\n"
     ]
    }
   ],
   "source": [
    "import pandas as pd\n",
    "df_conteo = pd.DataFrame(matriz_conteo.toarray(), columns=vectorizador.get_feature_names_out())\n",
    "print(df_conteo)"
   ]
  },
  {
   "cell_type": "markdown",
   "id": "d9ce5258-40a2-4e7d-bc5e-d6f7bc7f0548",
   "metadata": {},
   "source": [
    "Para obtener la frecuencia total de cada palabra en el documento (o documentos), podemos sumar las columnas del DataFrame. Los parámetros de CountVectorizer ofrecen una flexibilidad significativa para controlar qué palabras se cuentan e incluyen en el análisis. Por ejemplo, el parámetro stop_words se puede establecer en 'spanish' para eliminar automáticamente las palabras vacías en español, o se puede proporcionar una lista personalizada de palabras vacías. Los parámetros min_df y max_df permiten ignorar términos que aparecen en menos o más de un cierto número o proporción de documentos, respectivamente.  \n",
    "\n",
    "La siguiente tabla resume las ventajas y desventajas de los métodos de conteo de palabras discutidos:"
   ]
  },
  {
   "attachments": {
    "b754fceb-07b4-44a7-a9a1-9b379897540c.png": {
     "image/png": "[encoded data removed]"
    }
   },
   "cell_type": "markdown",
   "id": "dfa1c667-05be-4057-9b25-7704df5eb935",
   "metadata": {},
   "source": [
    "![imagen.png](attachment:b754fceb-07b4-44a7-a9a1-9b379897540c.png)"
   ]
  },
  {
   "cell_type": "markdown",
   "id": "f4392134-831a-40bd-8d0d-aeb49bae25f2",
   "metadata": {},
   "source": [
    "## Casos de Uso del Conteo de Palabras en el Procesamiento del Lenguaje Natural"
   ]
  },
  {
   "cell_type": "markdown",
   "id": "87967d1d-a889-447b-9336-0c77ad04771c",
   "metadata": {},
   "source": [
    "- Análisis Exploratorio de Datos (EDA) de Datos de Texto:\n",
    "\n",
    "Analizar la frecuencia de las palabras en un texto o corpus puede proporcionar información inicial valiosa sobre los temas principales, los temas y el estilo de escritura. Por ejemplo, al examinar las palabras más frecuentes en un conjunto de artículos de noticias, se pueden identificar los eventos o temas clave que están generando la mayor atención. La representación visual de los conteos de palabras mediante nubes de palabras, donde el tamaño de cada palabra es proporcional a su frecuencia, es una técnica popular para obtener una comprensión cualitativa rápida del contenido textual. En el análisis de discursos, el conteo de palabras puede ayudar a identificar los temas o palabras clave más recurrentes, ofreciendo una visión general de los puntos centrales del orador.   "
   ]
  },
  {
   "cell_type": "markdown",
   "id": "8fe940a5-3b71-4621-a575-fd644c9cf266",
   "metadata": {},
   "source": [
    "- Ingeniería de Características para Diversas Tareas de PLN:"
   ]
  },
  {
   "cell_type": "markdown",
   "id": "1068b0b8-b410-4282-a202-0d8c184d67d6",
   "metadata": {},
   "source": [
    "1) Clasificación de Texto: Los conteos de palabras se pueden utilizar como características para entrenar modelos de aprendizaje automático para tareas como la detección de spam (identificar correos electrónicos como spam o no spam), el análisis de sentimientos (determinar el tono emocional de un texto) y la categorización de temas (asignar categorías predefinidas a los documentos). Al representar el texto como un vector de conteos de palabras, los algoritmos de aprendizaje automático pueden procesar y aprender patrones a partir de datos textuales. Cada palabra única en el corpus se convierte en una característica, y el conteo de esa palabra en un documento en particular se convierte en el valor de esa característica. Los clasificadores pueden aprender a asociar ciertos patrones de frecuencias de palabras con diferentes clases o categorías. "
   ]
  },
  {
   "cell_type": "markdown",
   "id": "859cb30a-910a-4ec2-a833-ecbaffe8a57c",
   "metadata": {},
   "source": [
    "2) Recuperación de Información: En los sistemas básicos de recuperación de información (como los motores de búsqueda), los conteos de palabras se utilizan para clasificar la relevancia de los documentos para la consulta de un usuario. Los documentos que contienen más instancias de los términos de la consulta a menudo se consideran más relevantes. Si bien existen algoritmos de clasificación más sofisticados, el principio básico de hacer coincidir los términos de la consulta en función de su frecuencia en los documentos es un concepto fundamental en la recuperación de información.   "
   ]
  },
  {
   "cell_type": "markdown",
   "id": "233d1d20-68c6-474a-906f-f6168068c7c5",
   "metadata": {},
   "source": [
    "3) Extracción de Palabras Clave: Las palabras que ocurren con frecuencia (después de eliminar las palabras vacías) a menudo pueden servir como buenos candidatos para palabras clave que representan los temas principales de un documento. La identificación de palabras de contenido de alta frecuencia puede ser una forma sencilla de extraer automáticamente los términos clave de un texto. Las palabras que aparecen con frecuencia tienen más probabilidades de ser centrales en la discusión del documento.   "
   ]
  },
  {
   "cell_type": "markdown",
   "id": "f3de1c1b-5217-4a67-9b20-7bf3a029f47c",
   "metadata": {},
   "source": [
    "4) Resumen de Texto: Las frecuencias de palabras se pueden utilizar en algunas técnicas básicas de resumen de texto estadístico para identificar las oraciones más importantes en un documento, que luego se utilizan para generar un resumen. Las oraciones que contienen palabras más frecuentes podrían considerarse más centrales para el significado general del documento."
   ]
  },
  {
   "cell_type": "markdown",
   "id": "9f3194ac-494f-4e75-82f9-98654ae9284e",
   "metadata": {},
   "source": [
    "- Entendiendo la Frecuencia de Términos (TF) y su Relación con TF-IDF:\n",
    "\n",
    "La Frecuencia de Términos (TF) se define formalmente como el número de veces que aparece un término específico (palabra) en un documento en particular. Los conteos de palabras sin procesar obtenidos a través de los métodos discutidos anteriormente representan directamente la frecuencia de términos. TF-IDF (Frecuencia de Términos-Frecuencia Inversa de Documentos) es un esquema de ponderación más avanzado que se basa en la frecuencia de términos. TF-IDF también considera la Frecuencia Inversa de Documentos (IDF), que mide la rareza de una palabra en todo el corpus. Las palabras que son frecuentes en un documento específico pero raras en todo el corpus reciben puntuaciones TF-IDF más altas, lo que indica su importancia para ese documento específico. Si bien la frecuencia de términos proporciona una medida básica de la importancia de las palabras dentro de un documento, TF-IDF la refina al tener en cuenta la prevalencia de la palabra en múltiples documentos, destacando así los términos que son más distintivos de un documento en particular. Las palabras comunes como \"el\" podrían tener una alta frecuencia de términos en muchos documentos, pero su frecuencia inversa de documentos será baja porque aparecen en todas partes. TF-IDF resta importancia a estas palabras comunes y da más peso a las palabras que son específicas de un documento.   "
   ]
  },
  {
   "cell_type": "markdown",
   "id": "89e3349a-c7e9-4293-bfc0-2ebffc48a7d0",
   "metadata": {},
   "source": [
    "- Aplicaciones en Diversos Dominios:\n",
    "\n",
    "El conteo de palabras tiene aplicaciones en una amplia gama de dominios donde se requiere el análisis de texto. En el análisis de discursos, puede ayudar a identificar los temas o palabras clave más frecuentes. En el análisis de reseñas de clientes, puede revelar las características del producto, los aspectos positivos o negativos o los problemas comunes que se mencionan con mayor frecuencia. En el análisis de trabajos de investigación, puede ayudar a identificar las áreas clave de investigación o la terminología utilizada con frecuencia. Incluso en tareas administrativas, como el seguimiento y la facturación del trabajo de traducción, el número de palabras traducidas es una métrica clave. La capacidad fundamental de cuantificar las ocurrencias de palabras proporciona una base para comprender y procesar datos de texto en diversas aplicaciones.   "
   ]
  },
  {
   "cell_type": "code",
   "execution_count": null,
   "id": "d9bb9c9f-e6ea-4fe3-a974-4fbe2be11ef2",
   "metadata": {},
   "outputs": [],
   "source": []
  }
 ],
 "metadata": {
  "kernelspec": {
   "display_name": "Python 3 (ipykernel)",
   "language": "python",
   "name": "python3"
  },
  "language_info": {
   "codemirror_mode": {
    "name": "ipython",
    "version": 3
   },
   "file_extension": ".py",
   "mimetype": "text/x-python",
   "name": "python",
   "nbconvert_exporter": "python",
   "pygments_lexer": "ipython3",
   "version": "3.12.7"
  }
 },
 "nbformat": 4,
 "nbformat_minor": 5
}
