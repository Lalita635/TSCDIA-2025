{
 "cells": [
  {
   "cell_type": "markdown",
   "id": "f4004e9b",
   "metadata": {},
   "source": [
    "# Métodos tradicionales del NLP\n",
    "\n",
    "En las próximas clases se verá el _estado del arte_ basado en Aprendizaje Profundo.  \n",
    "Sin embargo, existe un gran repertorio de técnicas tradicionales en el Procesamiento del Lenguaje Natural (NLP) que es importante conocer.\n",
    "\n",
    "Estas técnicas nos ayudarán a:\n",
    "\n",
    "- Entender mejor el funcionamiento de las herramientas modernas.\n",
    "- Complementar la preparación y limpieza de datos.\n",
    "- Resolver tareas específicas donde una red neuronal pesada no sea necesaria o conveniente.\n",
    "\n",
    "Las próximas sesiones se centrarán en redes usando PyTorch, pero antes, exploraremos las siguientes técnicas y librerías tradicionales:\n",
    "\n",
    "## Herramientas de NLP que estudiaremos:\n",
    "\n",
    "- Expresiones regulares con `re`.\n",
    "- Búsqueda difusa de strings con `thefuzz`.\n",
    "\n",
    "## Procesos de normalización y preprocesamiento:\n",
    "\n",
    "- Stemming con `nltk`.\n",
    "- Lematización con `spaCy`.\n",
    "- Eliminación de Stop Words.\n",
    "\n",
    "## Modos de representación de texto:\n",
    "\n",
    "- Bolsa de Palabras (_Bag of Words_).\n",
    "- TF-IDF usando `sklearn`.\n"
   ]
  },
  {
   "cell_type": "markdown",
   "id": "13c32bcc",
   "metadata": {},
   "source": [
    "## 1. Herramientas Básicas de NLP\n",
    "\n",
    "### 1.1 Expresiones Regulares (regex) con `re`\n",
    "\n",
    "Las expresiones regulares son patrones que permiten buscar y manipular texto de forma flexible."
   ]
  },
  {
   "cell_type": "code",
   "execution_count": 10,
   "id": "82d1f9bb",
   "metadata": {},
   "outputs": [
    {
     "name": "stdout",
     "output_type": "stream",
     "text": [
      "Emails encontrados: ['soporte@empresa.com', 'ventas@servicio.com']\n"
     ]
    }
   ],
   "source": [
    "import re\n",
    "\n",
    "# Ejemplo práctico: Extracción de emails\n",
    "texto = \"Contacte a soporte@empresa.com o a ventas@servicio.com\"\n",
    "patron_email = r'\\b[A-Za-z0-9._%+-]+@[A-Za-z0-9.-]+\\.[A-Z|a-z]{2,}\\b'\n",
    "emails = re.findall(patron_email, texto)\n",
    "print(\"Emails encontrados:\", emails)"
   ]
  },
  {
   "cell_type": "markdown",
   "id": "c138cce7",
   "metadata": {},
   "source": [
    "Aplicaciones comunes:\n",
    "- Validación de formatos (emails, teléfonos)\n",
    "- Búsqueda de patrones específicos\n",
    "- Limpieza de texto (eliminar caracteres especiales)"
   ]
  },
  {
   "cell_type": "markdown",
   "id": "da7ceeb0",
   "metadata": {},
   "source": [
    "### 1.2 Búsqueda difusa con `thefuzz` (antes fuzzywuzzy)\n",
    "\n",
    "Útil para comparar cadenas similares pero no idénticas."
   ]
  },
  {
   "cell_type": "code",
   "execution_count": 4,
   "id": "30d0c73f",
   "metadata": {},
   "outputs": [
    {
     "name": "stdout",
     "output_type": "stream",
     "text": [
      "Similitud: 80%\n",
      "La mejor coincidencia encontrada: ('proceso de lenguaje', 95)\n"
     ]
    }
   ],
   "source": [
    "from thefuzz import fuzz\n",
    "from thefuzz import process\n",
    "\n",
    "# Comparación de strings\n",
    "cadena1 = \"Métodos de NLP\"\n",
    "cadena2 = \"metodos nlp\"\n",
    "\n",
    "# Ratio de similitud\n",
    "similitud = fuzz.ratio(cadena1.lower(), cadena2.lower())\n",
    "print(f\"Similitud: {similitud}%\")\n",
    "\n",
    "# Búsqueda de la mejor coincidencia en una lista\n",
    "opciones = [\"procesamiento de lenguaje\", \"procesado de lenguaje\", \"lenguaje natural\", \"proceso de lenguaje\"]\n",
    "mejor_coincidencia = process.extractOne(\"proceso de lenguaje natural\", opciones)\n",
    "print(f\"La mejor coincidencia encontrada: {mejor_coincidencia}\")"
   ]
  },
  {
   "cell_type": "markdown",
   "id": "e6ba5ce8",
   "metadata": {},
   "source": [
    "Casos de uso:\n",
    "\n",
    "- Corrección de errores tipográficos\n",
    "- Búsqueda de registros similares en bases de datos\n",
    "- Sistemas de recomendación basados en texto"
   ]
  },
  {
   "cell_type": "markdown",
   "id": "fef188e6",
   "metadata": {},
   "source": [
    "## 2. Normalización y Preprocesamiento\n",
    "\n",
    "### 2.1 Stemming con NLTK\n",
    "\n",
    "Reduce palabras a su raíz (puede no ser una palabra válida)"
   ]
  },
  {
   "cell_type": "code",
   "execution_count": 2,
   "id": "125e8f03",
   "metadata": {},
   "outputs": [
    {
     "name": "stdout",
     "output_type": "stream",
     "text": [
      "Original: ['corriendo', 'corre', 'correrán', 'corrió']\n",
      "Raíces: ['corriendo', 'corr', 'correrán', 'corrió']\n"
     ]
    }
   ],
   "source": [
    "from nltk.stem import PorterStemmer\n",
    "\n",
    "stemmer = PorterStemmer()\n",
    "palabras = [\"corriendo\", \"corre\", \"correrán\", \"corrió\"]\n",
    "raices = [stemmer.stem(p) for p in palabras]\n",
    "\n",
    "print(\"Original:\", palabras)\n",
    "print(\"Raíces:\", raices)"
   ]
  },
  {
   "cell_type": "markdown",
   "id": "38839877",
   "metadata": {},
   "source": [
    "Limitaciones:\n",
    "\n",
    "- Raíces no siempre son palabras reales\n",
    "- Sobresimplificación en algunos casos"
   ]
  },
  {
   "cell_type": "markdown",
   "id": "01cdda71",
   "metadata": {},
   "source": [
    "### 2.2 Lematización con spaCy\n",
    "\n",
    "Similar al stemming pero devuelve palabras válidas (lemas)"
   ]
  },
  {
   "cell_type": "markdown",
   "id": "511d4c04",
   "metadata": {},
   "source": [
    "Actualiza NumPy primero"
   ]
  },
  {
   "cell_type": "code",
   "execution_count": 4,
   "id": "1fb96acb",
   "metadata": {},
   "outputs": [
    {
     "name": "stdout",
     "output_type": "stream",
     "text": [
      "Defaulting to user installation because normal site-packages is not writeable\n",
      "Requirement already satisfied: numpy in c:\\users\\usuario\\appdata\\roaming\\python\\python310\\site-packages (2.2.5)\n"
     ]
    }
   ],
   "source": [
    "!pip install numpy --upgrade"
   ]
  },
  {
   "cell_type": "markdown",
   "id": "c71ad9b9",
   "metadata": {},
   "source": [
    "Luego actualiza h5py"
   ]
  },
  {
   "cell_type": "code",
   "execution_count": 6,
   "id": "81c7d053",
   "metadata": {},
   "outputs": [
    {
     "name": "stdout",
     "output_type": "stream",
     "text": [
      "Defaulting to user installation because normal site-packages is not writeable\n",
      "Requirement already satisfied: h5py in c:\\programdata\\anaconda3\\lib\\site-packages (3.7.0)\n",
      "Collecting h5py\n",
      "  Downloading h5py-3.13.0-cp310-cp310-win_amd64.whl (3.0 MB)\n",
      "     ---------------------------------------- 3.0/3.0 MB 11.1 MB/s eta 0:00:00\n",
      "Requirement already satisfied: numpy>=1.19.3 in c:\\users\\usuario\\appdata\\roaming\\python\\python310\\site-packages (from h5py) (2.2.5)\n",
      "Installing collected packages: h5py\n",
      "Successfully installed h5py-3.13.0\n"
     ]
    }
   ],
   "source": [
    "!pip install h5py --upgrade"
   ]
  },
  {
   "cell_type": "markdown",
   "id": "7fec8fd5",
   "metadata": {},
   "source": [
    "Reinstalar spaCy: Después vuelve a instalar spacy para asegurarte que todo sea compatible"
   ]
  },
  {
   "cell_type": "code",
   "execution_count": 7,
   "id": "5f787522",
   "metadata": {},
   "outputs": [
    {
     "name": "stdout",
     "output_type": "stream",
     "text": [
      "Defaulting to user installation because normal site-packages is not writeable\n",
      "Requirement already satisfied: spacy in c:\\users\\usuario\\appdata\\roaming\\python\\python310\\site-packages (3.8.5)\n",
      "Requirement already satisfied: typer<1.0.0,>=0.3.0 in c:\\users\\usuario\\appdata\\roaming\\python\\python310\\site-packages (from spacy) (0.15.2)\n",
      "Requirement already satisfied: pydantic!=1.8,!=1.8.1,<3.0.0,>=1.7.4 in c:\\users\\usuario\\appdata\\roaming\\python\\python310\\site-packages (from spacy) (2.11.3)\n",
      "Requirement already satisfied: srsly<3.0.0,>=2.4.3 in c:\\users\\usuario\\appdata\\roaming\\python\\python310\\site-packages (from spacy) (2.5.1)\n",
      "Requirement already satisfied: cymem<2.1.0,>=2.0.2 in c:\\users\\usuario\\appdata\\roaming\\python\\python310\\site-packages (from spacy) (2.0.11)\n",
      "Requirement already satisfied: langcodes<4.0.0,>=3.2.0 in c:\\users\\usuario\\appdata\\roaming\\python\\python310\\site-packages (from spacy) (3.5.0)\n",
      "Requirement already satisfied: spacy-loggers<2.0.0,>=1.0.0 in c:\\users\\usuario\\appdata\\roaming\\python\\python310\\site-packages (from spacy) (1.0.5)\n",
      "Requirement already satisfied: spacy-legacy<3.1.0,>=3.0.11 in c:\\users\\usuario\\appdata\\roaming\\python\\python310\\site-packages (from spacy) (3.0.12)\n",
      "Requirement already satisfied: catalogue<2.1.0,>=2.0.6 in c:\\users\\usuario\\appdata\\roaming\\python\\python310\\site-packages (from spacy) (2.0.10)\n",
      "Requirement already satisfied: packaging>=20.0 in c:\\programdata\\anaconda3\\lib\\site-packages (from spacy) (22.0)\n",
      "Requirement already satisfied: weasel<0.5.0,>=0.1.0 in c:\\users\\usuario\\appdata\\roaming\\python\\python310\\site-packages (from spacy) (0.4.1)\n",
      "Requirement already satisfied: murmurhash<1.1.0,>=0.28.0 in c:\\users\\usuario\\appdata\\roaming\\python\\python310\\site-packages (from spacy) (1.0.12)\n",
      "Requirement already satisfied: requests<3.0.0,>=2.13.0 in c:\\programdata\\anaconda3\\lib\\site-packages (from spacy) (2.28.1)\n",
      "Requirement already satisfied: thinc<8.4.0,>=8.3.4 in c:\\users\\usuario\\appdata\\roaming\\python\\python310\\site-packages (from spacy) (8.3.6)\n",
      "Requirement already satisfied: tqdm<5.0.0,>=4.38.0 in c:\\programdata\\anaconda3\\lib\\site-packages (from spacy) (4.64.1)\n",
      "Requirement already satisfied: numpy>=1.19.0 in c:\\users\\usuario\\appdata\\roaming\\python\\python310\\site-packages (from spacy) (2.2.5)\n",
      "Requirement already satisfied: wasabi<1.2.0,>=0.9.1 in c:\\users\\usuario\\appdata\\roaming\\python\\python310\\site-packages (from spacy) (1.1.3)\n",
      "Requirement already satisfied: jinja2 in c:\\programdata\\anaconda3\\lib\\site-packages (from spacy) (3.1.2)\n",
      "Requirement already satisfied: preshed<3.1.0,>=3.0.2 in c:\\users\\usuario\\appdata\\roaming\\python\\python310\\site-packages (from spacy) (3.0.9)\n",
      "Requirement already satisfied: setuptools in c:\\programdata\\anaconda3\\lib\\site-packages (from spacy) (65.6.3)\n",
      "Requirement already satisfied: language-data>=1.2 in c:\\users\\usuario\\appdata\\roaming\\python\\python310\\site-packages (from langcodes<4.0.0,>=3.2.0->spacy) (1.3.0)\n",
      "Requirement already satisfied: pydantic-core==2.33.1 in c:\\users\\usuario\\appdata\\roaming\\python\\python310\\site-packages (from pydantic!=1.8,!=1.8.1,<3.0.0,>=1.7.4->spacy) (2.33.1)\n",
      "Requirement already satisfied: typing-extensions>=4.12.2 in c:\\users\\usuario\\appdata\\roaming\\python\\python310\\site-packages (from pydantic!=1.8,!=1.8.1,<3.0.0,>=1.7.4->spacy) (4.13.2)\n",
      "Requirement already satisfied: typing-inspection>=0.4.0 in c:\\users\\usuario\\appdata\\roaming\\python\\python310\\site-packages (from pydantic!=1.8,!=1.8.1,<3.0.0,>=1.7.4->spacy) (0.4.0)\n",
      "Requirement already satisfied: annotated-types>=0.6.0 in c:\\users\\usuario\\appdata\\roaming\\python\\python310\\site-packages (from pydantic!=1.8,!=1.8.1,<3.0.0,>=1.7.4->spacy) (0.7.0)\n",
      "Requirement already satisfied: urllib3<1.27,>=1.21.1 in c:\\programdata\\anaconda3\\lib\\site-packages (from requests<3.0.0,>=2.13.0->spacy) (1.26.14)\n",
      "Requirement already satisfied: idna<4,>=2.5 in c:\\programdata\\anaconda3\\lib\\site-packages (from requests<3.0.0,>=2.13.0->spacy) (3.4)\n",
      "Requirement already satisfied: charset-normalizer<3,>=2 in c:\\programdata\\anaconda3\\lib\\site-packages (from requests<3.0.0,>=2.13.0->spacy) (2.0.4)\n",
      "Requirement already satisfied: certifi>=2017.4.17 in c:\\programdata\\anaconda3\\lib\\site-packages (from requests<3.0.0,>=2.13.0->spacy) (2023.5.7)\n",
      "Requirement already satisfied: confection<1.0.0,>=0.0.1 in c:\\users\\usuario\\appdata\\roaming\\python\\python310\\site-packages (from thinc<8.4.0,>=8.3.4->spacy) (0.1.5)\n",
      "Requirement already satisfied: blis<1.4.0,>=1.3.0 in c:\\users\\usuario\\appdata\\roaming\\python\\python310\\site-packages (from thinc<8.4.0,>=8.3.4->spacy) (1.3.0)\n",
      "Requirement already satisfied: colorama in c:\\programdata\\anaconda3\\lib\\site-packages (from tqdm<5.0.0,>=4.38.0->spacy) (0.4.6)\n",
      "Requirement already satisfied: shellingham>=1.3.0 in c:\\users\\usuario\\appdata\\roaming\\python\\python310\\site-packages (from typer<1.0.0,>=0.3.0->spacy) (1.5.4)\n",
      "Requirement already satisfied: rich>=10.11.0 in c:\\users\\usuario\\appdata\\roaming\\python\\python310\\site-packages (from typer<1.0.0,>=0.3.0->spacy) (14.0.0)\n",
      "Requirement already satisfied: click>=8.0.0 in c:\\programdata\\anaconda3\\lib\\site-packages (from typer<1.0.0,>=0.3.0->spacy) (8.0.4)\n",
      "Requirement already satisfied: cloudpathlib<1.0.0,>=0.7.0 in c:\\users\\usuario\\appdata\\roaming\\python\\python310\\site-packages (from weasel<0.5.0,>=0.1.0->spacy) (0.21.0)\n",
      "Requirement already satisfied: smart-open<8.0.0,>=5.2.1 in c:\\programdata\\anaconda3\\lib\\site-packages (from weasel<0.5.0,>=0.1.0->spacy) (5.2.1)\n",
      "Requirement already satisfied: MarkupSafe>=2.0 in c:\\programdata\\anaconda3\\lib\\site-packages (from jinja2->spacy) (2.1.1)\n",
      "Requirement already satisfied: marisa-trie>=1.1.0 in c:\\users\\usuario\\appdata\\roaming\\python\\python310\\site-packages (from language-data>=1.2->langcodes<4.0.0,>=3.2.0->spacy) (1.2.1)\n",
      "Requirement already satisfied: pygments<3.0.0,>=2.13.0 in c:\\users\\usuario\\appdata\\roaming\\python\\python310\\site-packages (from rich>=10.11.0->typer<1.0.0,>=0.3.0->spacy) (2.19.1)\n",
      "Requirement already satisfied: markdown-it-py>=2.2.0 in c:\\users\\usuario\\appdata\\roaming\\python\\python310\\site-packages (from rich>=10.11.0->typer<1.0.0,>=0.3.0->spacy) (3.0.0)\n",
      "Requirement already satisfied: mdurl~=0.1 in c:\\users\\usuario\\appdata\\roaming\\python\\python310\\site-packages (from markdown-it-py>=2.2.0->rich>=10.11.0->typer<1.0.0,>=0.3.0->spacy) (0.1.2)\n"
     ]
    }
   ],
   "source": [
    "!pip install spacy --upgrade"
   ]
  },
  {
   "cell_type": "markdown",
   "id": "0dc1984d",
   "metadata": {},
   "source": [
    "Instala ahora SpaCy"
   ]
  },
  {
   "cell_type": "code",
   "execution_count": 8,
   "id": "407f17c0",
   "metadata": {},
   "outputs": [
    {
     "name": "stdout",
     "output_type": "stream",
     "text": [
      "Defaulting to user installation because normal site-packages is not writeable\n",
      "Requirement already satisfied: spacy in c:\\users\\usuario\\appdata\\roaming\\python\\python310\\site-packages (3.8.5)\n",
      "Requirement already satisfied: tqdm<5.0.0,>=4.38.0 in c:\\programdata\\anaconda3\\lib\\site-packages (from spacy) (4.64.1)\n",
      "Requirement already satisfied: numpy>=1.19.0 in c:\\users\\usuario\\appdata\\roaming\\python\\python310\\site-packages (from spacy) (2.2.5)\n",
      "Requirement already satisfied: cymem<2.1.0,>=2.0.2 in c:\\users\\usuario\\appdata\\roaming\\python\\python310\\site-packages (from spacy) (2.0.11)\n",
      "Requirement already satisfied: spacy-legacy<3.1.0,>=3.0.11 in c:\\users\\usuario\\appdata\\roaming\\python\\python310\\site-packages (from spacy) (3.0.12)\n",
      "Requirement already satisfied: typer<1.0.0,>=0.3.0 in c:\\users\\usuario\\appdata\\roaming\\python\\python310\\site-packages (from spacy) (0.15.2)\n",
      "Requirement already satisfied: requests<3.0.0,>=2.13.0 in c:\\programdata\\anaconda3\\lib\\site-packages (from spacy) (2.28.1)\n",
      "Requirement already satisfied: setuptools in c:\\programdata\\anaconda3\\lib\\site-packages (from spacy) (65.6.3)\n",
      "Requirement already satisfied: jinja2 in c:\\programdata\\anaconda3\\lib\\site-packages (from spacy) (3.1.2)\n",
      "Requirement already satisfied: spacy-loggers<2.0.0,>=1.0.0 in c:\\users\\usuario\\appdata\\roaming\\python\\python310\\site-packages (from spacy) (1.0.5)\n",
      "Requirement already satisfied: murmurhash<1.1.0,>=0.28.0 in c:\\users\\usuario\\appdata\\roaming\\python\\python310\\site-packages (from spacy) (1.0.12)\n",
      "Requirement already satisfied: srsly<3.0.0,>=2.4.3 in c:\\users\\usuario\\appdata\\roaming\\python\\python310\\site-packages (from spacy) (2.5.1)\n",
      "Requirement already satisfied: wasabi<1.2.0,>=0.9.1 in c:\\users\\usuario\\appdata\\roaming\\python\\python310\\site-packages (from spacy) (1.1.3)\n",
      "Requirement already satisfied: weasel<0.5.0,>=0.1.0 in c:\\users\\usuario\\appdata\\roaming\\python\\python310\\site-packages (from spacy) (0.4.1)\n",
      "Requirement already satisfied: langcodes<4.0.0,>=3.2.0 in c:\\users\\usuario\\appdata\\roaming\\python\\python310\\site-packages (from spacy) (3.5.0)\n",
      "Requirement already satisfied: pydantic!=1.8,!=1.8.1,<3.0.0,>=1.7.4 in c:\\users\\usuario\\appdata\\roaming\\python\\python310\\site-packages (from spacy) (2.11.3)\n",
      "Requirement already satisfied: preshed<3.1.0,>=3.0.2 in c:\\users\\usuario\\appdata\\roaming\\python\\python310\\site-packages (from spacy) (3.0.9)\n",
      "Requirement already satisfied: packaging>=20.0 in c:\\programdata\\anaconda3\\lib\\site-packages (from spacy) (22.0)\n",
      "Requirement already satisfied: catalogue<2.1.0,>=2.0.6 in c:\\users\\usuario\\appdata\\roaming\\python\\python310\\site-packages (from spacy) (2.0.10)\n",
      "Requirement already satisfied: thinc<8.4.0,>=8.3.4 in c:\\users\\usuario\\appdata\\roaming\\python\\python310\\site-packages (from spacy) (8.3.6)\n",
      "Requirement already satisfied: language-data>=1.2 in c:\\users\\usuario\\appdata\\roaming\\python\\python310\\site-packages (from langcodes<4.0.0,>=3.2.0->spacy) (1.3.0)\n",
      "Requirement already satisfied: typing-inspection>=0.4.0 in c:\\users\\usuario\\appdata\\roaming\\python\\python310\\site-packages (from pydantic!=1.8,!=1.8.1,<3.0.0,>=1.7.4->spacy) (0.4.0)\n",
      "Requirement already satisfied: pydantic-core==2.33.1 in c:\\users\\usuario\\appdata\\roaming\\python\\python310\\site-packages (from pydantic!=1.8,!=1.8.1,<3.0.0,>=1.7.4->spacy) (2.33.1)\n",
      "Requirement already satisfied: typing-extensions>=4.12.2 in c:\\users\\usuario\\appdata\\roaming\\python\\python310\\site-packages (from pydantic!=1.8,!=1.8.1,<3.0.0,>=1.7.4->spacy) (4.13.2)\n",
      "Requirement already satisfied: annotated-types>=0.6.0 in c:\\users\\usuario\\appdata\\roaming\\python\\python310\\site-packages (from pydantic!=1.8,!=1.8.1,<3.0.0,>=1.7.4->spacy) (0.7.0)\n",
      "Requirement already satisfied: urllib3<1.27,>=1.21.1 in c:\\programdata\\anaconda3\\lib\\site-packages (from requests<3.0.0,>=2.13.0->spacy) (1.26.14)\n",
      "Requirement already satisfied: charset-normalizer<3,>=2 in c:\\programdata\\anaconda3\\lib\\site-packages (from requests<3.0.0,>=2.13.0->spacy) (2.0.4)\n",
      "Requirement already satisfied: certifi>=2017.4.17 in c:\\programdata\\anaconda3\\lib\\site-packages (from requests<3.0.0,>=2.13.0->spacy) (2023.5.7)\n",
      "Requirement already satisfied: idna<4,>=2.5 in c:\\programdata\\anaconda3\\lib\\site-packages (from requests<3.0.0,>=2.13.0->spacy) (3.4)\n",
      "Requirement already satisfied: confection<1.0.0,>=0.0.1 in c:\\users\\usuario\\appdata\\roaming\\python\\python310\\site-packages (from thinc<8.4.0,>=8.3.4->spacy) (0.1.5)\n",
      "Requirement already satisfied: blis<1.4.0,>=1.3.0 in c:\\users\\usuario\\appdata\\roaming\\python\\python310\\site-packages (from thinc<8.4.0,>=8.3.4->spacy) (1.3.0)\n",
      "Requirement already satisfied: colorama in c:\\programdata\\anaconda3\\lib\\site-packages (from tqdm<5.0.0,>=4.38.0->spacy) (0.4.6)\n",
      "Requirement already satisfied: shellingham>=1.3.0 in c:\\users\\usuario\\appdata\\roaming\\python\\python310\\site-packages (from typer<1.0.0,>=0.3.0->spacy) (1.5.4)\n",
      "Requirement already satisfied: rich>=10.11.0 in c:\\users\\usuario\\appdata\\roaming\\python\\python310\\site-packages (from typer<1.0.0,>=0.3.0->spacy) (14.0.0)\n",
      "Requirement already satisfied: click>=8.0.0 in c:\\programdata\\anaconda3\\lib\\site-packages (from typer<1.0.0,>=0.3.0->spacy) (8.0.4)\n",
      "Requirement already satisfied: smart-open<8.0.0,>=5.2.1 in c:\\programdata\\anaconda3\\lib\\site-packages (from weasel<0.5.0,>=0.1.0->spacy) (5.2.1)\n",
      "Requirement already satisfied: cloudpathlib<1.0.0,>=0.7.0 in c:\\users\\usuario\\appdata\\roaming\\python\\python310\\site-packages (from weasel<0.5.0,>=0.1.0->spacy) (0.21.0)\n",
      "Requirement already satisfied: MarkupSafe>=2.0 in c:\\programdata\\anaconda3\\lib\\site-packages (from jinja2->spacy) (2.1.1)\n",
      "Requirement already satisfied: marisa-trie>=1.1.0 in c:\\users\\usuario\\appdata\\roaming\\python\\python310\\site-packages (from language-data>=1.2->langcodes<4.0.0,>=3.2.0->spacy) (1.2.1)\n",
      "Requirement already satisfied: pygments<3.0.0,>=2.13.0 in c:\\users\\usuario\\appdata\\roaming\\python\\python310\\site-packages (from rich>=10.11.0->typer<1.0.0,>=0.3.0->spacy) (2.19.1)\n",
      "Requirement already satisfied: markdown-it-py>=2.2.0 in c:\\users\\usuario\\appdata\\roaming\\python\\python310\\site-packages (from rich>=10.11.0->typer<1.0.0,>=0.3.0->spacy) (3.0.0)\n",
      "Requirement already satisfied: mdurl~=0.1 in c:\\users\\usuario\\appdata\\roaming\\python\\python310\\site-packages (from markdown-it-py>=2.2.0->rich>=10.11.0->typer<1.0.0,>=0.3.0->spacy) (0.1.2)\n"
     ]
    }
   ],
   "source": [
    "!pip install spacy"
   ]
  },
  {
   "cell_type": "code",
   "execution_count": 2,
   "id": "50c8b3ac",
   "metadata": {},
   "outputs": [
    {
     "name": "stdout",
     "output_type": "stream",
     "text": [
      "Defaulting to user installation because normal site-packages is not writeable\n",
      "Collecting es-core-news-sm==3.8.0\n",
      "  Downloading https://github.com/explosion/spacy-models/releases/download/es_core_news_sm-3.8.0/es_core_news_sm-3.8.0-py3-none-any.whl (12.9 MB)\n",
      "     --------------------------------------- 12.9/12.9 MB 13.3 MB/s eta 0:00:00\n",
      "Installing collected packages: es-core-news-sm\n",
      "Successfully installed es-core-news-sm-3.8.0\n",
      "\u001b[38;5;2m[+] Download and installation successful\u001b[0m\n",
      "You can now load the package via spacy.load('es_core_news_sm')\n",
      "Original: Los gatos corren rápidamente cuando cazan ratones\n",
      "Lemas: ['el', 'gato', 'correr', 'rápidamente', 'cuando', 'cazar', 'ratón']\n"
     ]
    }
   ],
   "source": [
    "!python -m spacy download es_core_news_sm\n",
    "import spacy\n",
    "\n",
    "# Cargar modelo (ejecutar: python -m spacy download es_core_news_sm)\n",
    "nlp = spacy.load(\"es_core_news_sm\")\n",
    "\n",
    "texto = \"Los gatos corren rápidamente cuando cazan ratones\"\n",
    "doc = nlp(texto)\n",
    "\n",
    "print(\"Original:\", texto)\n",
    "print(\"Lemas:\", [token.lemma_ for token in doc])"
   ]
  },
  {
   "cell_type": "markdown",
   "id": "ada2e289",
   "metadata": {},
   "source": [
    "Ventajas sobre stemming:\n",
    "\n",
    "- Produce palabras reales\n",
    "- Considera contexto gramatical\n",
    "- Más preciso pero más lento"
   ]
  }
 ],
 "metadata": {
  "kernelspec": {
   "display_name": "Python 3 (ipykernel)",
   "language": "python",
   "name": "python3"
  },
  "language_info": {
   "codemirror_mode": {
    "name": "ipython",
    "version": 3
   },
   "file_extension": ".py",
   "mimetype": "text/x-python",
   "name": "python",
   "nbconvert_exporter": "python",
   "pygments_lexer": "ipython3",
   "version": "3.12.7"
  }
 },
 "nbformat": 4,
 "nbformat_minor": 5
}
