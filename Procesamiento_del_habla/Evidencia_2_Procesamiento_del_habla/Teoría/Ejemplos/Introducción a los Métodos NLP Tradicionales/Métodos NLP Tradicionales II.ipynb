{
 "cells": [
  {
   "cell_type": "markdown",
   "id": "3798c7b4-68e0-4909-b31d-c4f2d1600f27",
   "metadata": {},
   "source": [
    "### 2.3 Stop Words\n",
    "\n",
    "Palabras frecuentes que aportan poco significado (artículos, preposiciones)."
   ]
  },
  {
   "cell_type": "code",
   "execution_count": 1,
   "id": "710f74b5-d3cb-4907-bf81-ee7be0df3db8",
   "metadata": {},
   "outputs": [
    {
     "name": "stdout",
     "output_type": "stream",
     "text": [
      "Original: ['el', 'rápido', 'zorro', 'marrón', 'salta', 'sobre', 'el', 'perro', 'perezoso']\n",
      "Sin stop words: ['rápido', 'zorro', 'marrón', 'salta', 'perro', 'perezoso']\n"
     ]
    },
    {
     "name": "stderr",
     "output_type": "stream",
     "text": [
      "[nltk_data] Downloading package punkt to\n",
      "[nltk_data]     C:\\Users\\Usuario\\AppData\\Roaming\\nltk_data...\n",
      "[nltk_data]   Package punkt is already up-to-date!\n",
      "[nltk_data] Downloading package stopwords to\n",
      "[nltk_data]     C:\\Users\\Usuario\\AppData\\Roaming\\nltk_data...\n",
      "[nltk_data]   Package stopwords is already up-to-date!\n"
     ]
    }
   ],
   "source": [
    "from nltk.corpus import stopwords\n",
    "from nltk.tokenize import word_tokenize\n",
    "import nltk\n",
    "nltk.download('punkt')\n",
    "nltk.download('stopwords')\n",
    "\n",
    "texto = \"El rápido zorro marrón salta sobre el perro perezoso\"\n",
    "stop_words = set(stopwords.words('spanish'))\n",
    "tokens = word_tokenize(texto.lower())\n",
    "\n",
    "filtrado = [p for p in tokens if p not in stop_words]\n",
    "print(\"Original:\", tokens)\n",
    "print(\"Sin stop words:\", filtrado)"
   ]
  },
  {
   "cell_type": "markdown",
   "id": "e6c07553-f495-4bd5-b2f0-60949f10a988",
   "metadata": {},
   "source": [
    "**Consideraciones:**\n",
    "- Listas varían por idioma\n",
    "- A veces conviene mantener algunas (para análisis de sentimiento)\n",
    "- Pueden personalizarse"
   ]
  },
  {
   "cell_type": "markdown",
   "id": "b59a68e8-54c1-4e22-9257-0246eb4b0289",
   "metadata": {},
   "source": [
    "## 3. Representación de Texto\n",
    "\n",
    "### 3.1 Bolsa de Palabras (Bag of Words)\n",
    "\n",
    "Representa documentos como vectores de conteos de palabras."
   ]
  },
  {
   "cell_type": "code",
   "execution_count": 2,
   "id": "1c5cd428-ef16-4923-b457-16b8eb887d14",
   "metadata": {},
   "outputs": [
    {
     "name": "stdout",
     "output_type": "stream",
     "text": [
      "Vocabulario: ['amigos' 'carne' 'come' 'el' 'gato' 'perro' 'pescado' 'son']\n",
      "Matriz BoW:\n",
      " [[0 0 1 1 1 0 1 0]\n",
      " [0 1 1 1 0 1 0 0]\n",
      " [1 0 0 2 1 1 0 1]]\n"
     ]
    }
   ],
   "source": [
    "from sklearn.feature_extraction.text import CountVectorizer\n",
    "\n",
    "corpus = [\n",
    "    'El gato come pescado',\n",
    "    'El perro come carne',\n",
    "    'El gato y el perro son amigos'\n",
    "]\n",
    "\n",
    "vectorizer = CountVectorizer()\n",
    "X = vectorizer.fit_transform(corpus)\n",
    "\n",
    "print(\"Vocabulario:\", vectorizer.get_feature_names_out())\n",
    "print(\"Matriz BoW:\\n\", X.toarray())"
   ]
  },
  {
   "cell_type": "markdown",
   "id": "55cb3f62-154e-4d1a-a375-d8166be6f8c1",
   "metadata": {},
   "source": [
    "**Características:**\n",
    "  \n",
    "- Simple pero efectivo para muchos casos\n",
    "- Ignora orden y contexto\n",
    "- Alta dimensionalidad con vocabularios grandes"
   ]
  },
  {
   "cell_type": "markdown",
   "id": "95fda0c1-272f-4356-833b-abb9ae45da8d",
   "metadata": {},
   "source": [
    "### 3.2 TF-IDF con sklearn\n",
    "\n",
    "Evalúa importancia de términos ponderando frecuencia por rareza."
   ]
  },
  {
   "cell_type": "code",
   "execution_count": 3,
   "id": "6d1b077d-9df8-4197-811d-0bcafe07829d",
   "metadata": {},
   "outputs": [
    {
     "name": "stdout",
     "output_type": "stream",
     "text": [
      "Matriz TF-IDF:\n",
      " [[0.         0.         0.4804584  0.37311881 0.4804584  0.\n",
      "  0.63174505 0.        ]\n",
      " [0.         0.63174505 0.4804584  0.37311881 0.         0.4804584\n",
      "  0.         0.        ]\n",
      " [0.46869865 0.         0.         0.55364194 0.3564574  0.3564574\n",
      "  0.         0.46869865]]\n"
     ]
    }
   ],
   "source": [
    "from sklearn.feature_extraction.text import TfidfVectorizer\n",
    "\n",
    "tfidf = TfidfVectorizer()\n",
    "X_tfidf = tfidf.fit_transform(corpus)\n",
    "\n",
    "print(\"Matriz TF-IDF:\\n\", X_tfidf.toarray())"
   ]
  },
  {
   "cell_type": "markdown",
   "id": "5dbf3c1d-a02d-4e82-b3a9-5175c6f1dc99",
   "metadata": {},
   "source": [
    "**Ventajas sobre BoW:**\n",
    "    \n",
    "- Reduce peso de palabras muy frecuentes\n",
    "- Destaca términos distintivos\n",
    "- Mejor rendimiento en tareas de recuperación de información"
   ]
  },
  {
   "cell_type": "markdown",
   "id": "55d852d8-f666-4d23-8496-19cd8566e856",
   "metadata": {},
   "source": [
    "## Conclusión\n",
    "\n",
    "Estas técnicas tradicionales forman la base del NLP moderno. Aunque las redes neuronales han avanzado el campo, estos métodos siguen siendo relevantes para:\n",
    "\n",
    "1. **Proyectos con recursos limitados**: Donde no se justifica usar modelos pesados\n",
    "2. **Preprocesamiento**: Mejorar la calidad de entrada para modelos complejos\n",
    "3. **Interpretabilidad**: Son más fáciles de entender y depurar\n",
    "\n",
    "Para implementaciones modernas, muchas de estas técnicas pueden combinarse con enfoques de deep learning usando frameworks como PyTorch o TensorFlow."
   ]
  },
  {
   "cell_type": "code",
   "execution_count": null,
   "id": "d9956662-783d-4c8a-a91d-1ec39bf94b42",
   "metadata": {},
   "outputs": [],
   "source": []
  }
 ],
 "metadata": {
  "kernelspec": {
   "display_name": "Python 3 (ipykernel)",
   "language": "python",
   "name": "python3"
  },
  "language_info": {
   "codemirror_mode": {
    "name": "ipython",
    "version": 3
   },
   "file_extension": ".py",
   "mimetype": "text/x-python",
   "name": "python",
   "nbconvert_exporter": "python",
   "pygments_lexer": "ipython3",
   "version": "3.12.7"
  }
 },
 "nbformat": 4,
 "nbformat_minor": 5
}
